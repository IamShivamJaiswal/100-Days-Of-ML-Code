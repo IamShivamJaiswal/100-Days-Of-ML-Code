{
  "nbformat": 4,
  "nbformat_minor": 0,
  "metadata": {
    "colab": {
      "name": "Recombee.ipynb",
      "provenance": [],
      "collapsed_sections": [],
      "toc_visible": true,
      "include_colab_link": true
    },
    "kernelspec": {
      "name": "python3",
      "display_name": "Python 3"
    },
    "accelerator": "GPU"
  },
  "cells": [
    {
      "cell_type": "markdown",
      "metadata": {
        "id": "view-in-github",
        "colab_type": "text"
      },
      "source": [
        "<a href=\"https://colab.research.google.com/github/IamShivamJaiswal/100-Days-Of-ML-Code/blob/master/Recombee.ipynb\" target=\"_parent\"><img src=\"https://colab.research.google.com/assets/colab-badge.svg\" alt=\"Open In Colab\"/></a>"
      ]
    },
    {
      "cell_type": "markdown",
      "metadata": {
        "id": "J4o7hArJuFxi",
        "colab_type": "text"
      },
      "source": [
        "## Installing dependencies"
      ]
    },
    {
      "cell_type": "code",
      "metadata": {
        "id": "Yp5a7kqL0vCa",
        "colab_type": "code",
        "outputId": "5dc63866-7c60-48a9-f840-2be5d74ac6ac",
        "colab": {
          "base_uri": "https://localhost:8080/",
          "height": 207
        }
      },
      "source": [
        "!pip install recombee-api-client"
      ],
      "execution_count": 0,
      "outputs": [
        {
          "output_type": "stream",
          "text": [
            "Collecting recombee-api-client\n",
            "\u001b[?25l  Downloading https://files.pythonhosted.org/packages/99/bd/d1c46ed54f96dee96ca5b2a7a49fc8bb9343a170b7042f2f32a9884404ad/recombee_api_client-2.4.0-py2.py3-none-any.whl (117kB)\n",
            "\r\u001b[K     |██▉                             | 10kB 15.1MB/s eta 0:00:01\r\u001b[K     |█████▋                          | 20kB 4.4MB/s eta 0:00:01\r\u001b[K     |████████▍                       | 30kB 6.3MB/s eta 0:00:01\r\u001b[K     |███████████▏                    | 40kB 4.1MB/s eta 0:00:01\r\u001b[K     |██████████████                  | 51kB 5.0MB/s eta 0:00:01\r\u001b[K     |████████████████▉               | 61kB 5.9MB/s eta 0:00:01\r\u001b[K     |███████████████████▋            | 71kB 6.7MB/s eta 0:00:01\r\u001b[K     |██████████████████████▍         | 81kB 7.4MB/s eta 0:00:01\r\u001b[K     |█████████████████████████▏      | 92kB 8.2MB/s eta 0:00:01\r\u001b[K     |████████████████████████████    | 102kB 6.7MB/s eta 0:00:01\r\u001b[K     |██████████████████████████████▊ | 112kB 6.7MB/s eta 0:00:01\r\u001b[K     |████████████████████████████████| 122kB 6.7MB/s \n",
            "\u001b[?25hRequirement already satisfied: requests in /usr/local/lib/python3.6/dist-packages (from recombee-api-client) (2.21.0)\n",
            "Requirement already satisfied: urllib3<1.25,>=1.21.1 in /usr/local/lib/python3.6/dist-packages (from requests->recombee-api-client) (1.24.3)\n",
            "Requirement already satisfied: certifi>=2017.4.17 in /usr/local/lib/python3.6/dist-packages (from requests->recombee-api-client) (2019.6.16)\n",
            "Requirement already satisfied: chardet<3.1.0,>=3.0.2 in /usr/local/lib/python3.6/dist-packages (from requests->recombee-api-client) (3.0.4)\n",
            "Requirement already satisfied: idna<2.9,>=2.5 in /usr/local/lib/python3.6/dist-packages (from requests->recombee-api-client) (2.8)\n",
            "Installing collected packages: recombee-api-client\n",
            "Successfully installed recombee-api-client-2.4.0\n"
          ],
          "name": "stdout"
        }
      ]
    },
    {
      "cell_type": "markdown",
      "metadata": {
        "id": "7C0uN4_juPCq",
        "colab_type": "text"
      },
      "source": [
        "## Importing libraries"
      ]
    },
    {
      "cell_type": "code",
      "metadata": {
        "id": "kGq8QyIq13o_",
        "colab_type": "code",
        "colab": {}
      },
      "source": [
        "from recombee_api_client.api_client import RecombeeClient\n",
        "from recombee_api_client.exceptions import APIException\n",
        "from recombee_api_client.api_requests import  AddDetailView,AddPurchase,AddBookmark,AddRating,AddCartAddition,SetViewPortion\n",
        "from recombee_api_client.api_requests import  AddDetailView , AddUserProperty , AddUser ,SetUserValues ,DeleteDetailView\n",
        "from recombee_api_client.api_requests import AddPurchase, RecommendItemsToUser,RecommendItemsToItem, Batch ,ResetDatabase ,AddItemProperty, SetItemValues \n",
        "import random\n",
        "import pandas as pd"
      ],
      "execution_count": 0,
      "outputs": []
    },
    {
      "cell_type": "markdown",
      "metadata": {
        "id": "JRSMu34EumMq",
        "colab_type": "text"
      },
      "source": [
        "## Downloading the data"
      ]
    },
    {
      "cell_type": "code",
      "metadata": {
        "id": "3CU4ixdSv9Ge",
        "colab_type": "code",
        "colab": {}
      },
      "source": [
        "# Import PyDrive and associated libraries.\n",
        "# This only needs to be done once per notebook.\n",
        "from pydrive.auth import GoogleAuth\n",
        "from pydrive.drive import GoogleDrive\n",
        "from google.colab import auth\n",
        "from oauth2client.client import GoogleCredentials\n",
        "\n",
        "# Authenticate and create the PyDrive client.\n",
        "# This only needs to be done once per notebook.\n",
        "auth.authenticate_user()\n",
        "gauth = GoogleAuth()\n",
        "gauth.credentials = GoogleCredentials.get_application_default()\n",
        "drive = GoogleDrive(gauth)"
      ],
      "execution_count": 0,
      "outputs": []
    },
    {
      "cell_type": "code",
      "metadata": {
        "id": "WGkxqIa-uW4l",
        "colab_type": "code",
        "colab": {}
      },
      "source": [
        "#https://drive.google.com/open?id=1qYUBlao91MeOyhkJIaYser-wTyTUqEn7\n",
        "#https://docs.google.com/spreadsheets/d/1EBs2JArjgDaS6KSYaNtqRlT-x7FoX3I2mVYVyZ5MlPo/edit?usp=sharing\n",
        "#https://drive.google.com/file/d/1UId1w1biUsv9MFuUIzVz3jijHcvA8JFb/view?usp=sharing\n",
        "# Download a file based on its file ID.\n",
        "#\n",
        "# A file ID looks like: laggVyWshwcyP6kEI-y_W3P8D26sz\n",
        "file_id = '1UId1w1biUsv9MFuUIzVz3jijHcvA8JFb'\n",
        "file_id =\"11JmGcDtyTSqFfJu_VcLjNJquKPqrqErs\"\n",
        "downloaded = drive.CreateFile({'id': file_id})\n",
        "downloaded.GetContentFile(\"Metadata.csv\")\n",
        "\n",
        "# !wget http://files.grouplens.org/datasets/movielens/ml-latest-small.zip\n",
        "# !unzip ml-latest-small.zip"
      ],
      "execution_count": 0,
      "outputs": []
    },
    {
      "cell_type": "markdown",
      "metadata": {
        "id": "iD8lp6kUuphe",
        "colab_type": "text"
      },
      "source": [
        "## Creating RecombeeClient"
      ]
    },
    {
      "cell_type": "code",
      "metadata": {
        "id": "pLbKfsOL17Vp",
        "colab_type": "code",
        "colab": {}
      },
      "source": [
        "client = RecombeeClient('sgservices-train', 'ZzUvRGwQtlAoSJJy8Yf4l2x2dFWgx7YejKxeops6nITy6ErI54BHdfq0CCPTkUMt')"
      ],
      "execution_count": 0,
      "outputs": []
    },
    {
      "cell_type": "markdown",
      "metadata": {
        "id": "f3qyuso7utxY",
        "colab_type": "text"
      },
      "source": [
        "## Clearing the database"
      ]
    },
    {
      "cell_type": "code",
      "metadata": {
        "id": "c2H42vtCZg23",
        "colab_type": "code",
        "outputId": "20e40749-1694-4660-9449-ae1b373a16e8",
        "colab": {
          "base_uri": "https://localhost:8080/",
          "height": 34
        }
      },
      "source": [
        "#Clear the entire database\n",
        "client.send(ResetDatabase())"
      ],
      "execution_count": 0,
      "outputs": [
        {
          "output_type": "execute_result",
          "data": {
            "text/plain": [
              "'ok'"
            ]
          },
          "metadata": {
            "tags": []
          },
          "execution_count": 6
        }
      ]
    },
    {
      "cell_type": "code",
      "metadata": {
        "id": "LKTNR-OW3-hR",
        "colab_type": "code",
        "colab": {}
      },
      "source": [
        "requests = []"
      ],
      "execution_count": 0,
      "outputs": []
    },
    {
      "cell_type": "markdown",
      "metadata": {
        "id": "Ixqvo_hVu6N7",
        "colab_type": "text"
      },
      "source": [
        "## Setting the field for the given item"
      ]
    },
    {
      "cell_type": "code",
      "metadata": {
        "id": "tw76HQ3m5KSx",
        "colab_type": "code",
        "outputId": "aec0f7f7-a04b-41c3-f87f-1c8045c4d538",
        "colab": {
          "base_uri": "https://localhost:8080/",
          "height": 34
        }
      },
      "source": [
        "client.send(AddItemProperty('city', 'string'))\n",
        "client.send(AddItemProperty('state', 'string'))\n",
        "client.send(AddItemProperty('country', 'string'))\n",
        "client.send(AddItemProperty('IsActive', 'string'))\n",
        "client.send(AddItemProperty('tags', 'string'))\n",
        "client.send(AddItemProperty('ngo', 'string'))\n",
        "client.send(AddItemProperty('campaignType','string'))"
      ],
      "execution_count": 0,
      "outputs": [
        {
          "output_type": "execute_result",
          "data": {
            "text/plain": [
              "'ok'"
            ]
          },
          "metadata": {
            "tags": []
          },
          "execution_count": 8
        }
      ]
    },
    {
      "cell_type": "markdown",
      "metadata": {
        "id": "HXKKh9Yeu97x",
        "colab_type": "text"
      },
      "source": [
        "## Reading the data from file"
      ]
    },
    {
      "cell_type": "code",
      "metadata": {
        "id": "2HXLs-XLcXzR",
        "colab_type": "code",
        "colab": {}
      },
      "source": [
        "import pandas as pd\n",
        "#df = pd.read_csv(\"ml-latest-small/ratings.csv\",delimiter=\",\")\n",
        "df = pd.read_csv(\"Metadata.csv\",delimiter=\",\")"
      ],
      "execution_count": 0,
      "outputs": []
    },
    {
      "cell_type": "code",
      "metadata": {
        "id": "DUz1YzzAHjbp",
        "colab_type": "code",
        "colab": {}
      },
      "source": [
        "df = df.dropna()"
      ],
      "execution_count": 0,
      "outputs": []
    },
    {
      "cell_type": "code",
      "metadata": {
        "id": "PFXcE2UqxMqo",
        "colab_type": "code",
        "outputId": "8e4e9302-6a1b-4d8c-fcf7-c11ee8b21a89",
        "colab": {
          "base_uri": "https://localhost:8080/",
          "height": 224
        }
      },
      "source": [
        "df.head()"
      ],
      "execution_count": 0,
      "outputs": [
        {
          "output_type": "execute_result",
          "data": {
            "text/html": [
              "<div>\n",
              "<style scoped>\n",
              "    .dataframe tbody tr th:only-of-type {\n",
              "        vertical-align: middle;\n",
              "    }\n",
              "\n",
              "    .dataframe tbody tr th {\n",
              "        vertical-align: top;\n",
              "    }\n",
              "\n",
              "    .dataframe thead th {\n",
              "        text-align: right;\n",
              "    }\n",
              "</style>\n",
              "<table border=\"1\" class=\"dataframe\">\n",
              "  <thead>\n",
              "    <tr style=\"text-align: right;\">\n",
              "      <th></th>\n",
              "      <th>campaignid</th>\n",
              "      <th>city</th>\n",
              "      <th>state</th>\n",
              "      <th>country</th>\n",
              "      <th>tags</th>\n",
              "      <th>IsActive</th>\n",
              "      <th>ngo</th>\n",
              "      <th>campaignType</th>\n",
              "    </tr>\n",
              "  </thead>\n",
              "  <tbody>\n",
              "    <tr>\n",
              "      <th>0</th>\n",
              "      <td>5ca051a6c29d45477d90ca7e</td>\n",
              "      <td>Bengaluru</td>\n",
              "      <td>Karnataka</td>\n",
              "      <td>India</td>\n",
              "      <td>Education</td>\n",
              "      <td>PUBLISHED</td>\n",
              "      <td>5ca05019c29d45477d90ca76</td>\n",
              "      <td>volunteerCampaign</td>\n",
              "    </tr>\n",
              "    <tr>\n",
              "      <th>1</th>\n",
              "      <td>5ca091f60423b9fb4b03f199</td>\n",
              "      <td>Bengaluru</td>\n",
              "      <td>Karnataka</td>\n",
              "      <td>India</td>\n",
              "      <td>Health</td>\n",
              "      <td>UNPUBLISHED</td>\n",
              "      <td>5ca04f806ad395ad77629a07</td>\n",
              "      <td>volunteerCampaign</td>\n",
              "    </tr>\n",
              "    <tr>\n",
              "      <th>2</th>\n",
              "      <td>5cb454ebbdfb7e70901607d5</td>\n",
              "      <td>Hyderabad</td>\n",
              "      <td>Telangana</td>\n",
              "      <td>India</td>\n",
              "      <td>Health</td>\n",
              "      <td>PUBLISHED</td>\n",
              "      <td>5ca05019c29d45477d90ca76</td>\n",
              "      <td>volunteerCampaign</td>\n",
              "    </tr>\n",
              "    <tr>\n",
              "      <th>3</th>\n",
              "      <td>5ca094a6c29d45477d90cb09</td>\n",
              "      <td>Bengaluru</td>\n",
              "      <td>Karnataka</td>\n",
              "      <td>India</td>\n",
              "      <td>Education</td>\n",
              "      <td>PUBLISHED</td>\n",
              "      <td>5ca05019c29d45477d90ca76</td>\n",
              "      <td>event</td>\n",
              "    </tr>\n",
              "    <tr>\n",
              "      <th>4</th>\n",
              "      <td>5ca0a7530aaf3f61807e1062</td>\n",
              "      <td>Bengaluru</td>\n",
              "      <td>Karnataka</td>\n",
              "      <td>India</td>\n",
              "      <td>Health</td>\n",
              "      <td>PUBLISHED</td>\n",
              "      <td>5ca05019c29d45477d90ca76</td>\n",
              "      <td>membershipCampaign</td>\n",
              "    </tr>\n",
              "  </tbody>\n",
              "</table>\n",
              "</div>"
            ],
            "text/plain": [
              "                 campaignid  ...        campaignType\n",
              "0  5ca051a6c29d45477d90ca7e  ...   volunteerCampaign\n",
              "1  5ca091f60423b9fb4b03f199  ...   volunteerCampaign\n",
              "2  5cb454ebbdfb7e70901607d5  ...   volunteerCampaign\n",
              "3  5ca094a6c29d45477d90cb09  ...               event\n",
              "4  5ca0a7530aaf3f61807e1062  ...  membershipCampaign\n",
              "\n",
              "[5 rows x 8 columns]"
            ]
          },
          "metadata": {
            "tags": []
          },
          "execution_count": 11
        }
      ]
    },
    {
      "cell_type": "code",
      "metadata": {
        "id": "QRb-5jINiQBN",
        "colab_type": "code",
        "outputId": "2f040ecf-8f2e-49b0-e2cd-76bcf7e77ee5",
        "colab": {
          "base_uri": "https://localhost:8080/",
          "height": 34
        }
      },
      "source": [
        "df.shape"
      ],
      "execution_count": 0,
      "outputs": [
        {
          "output_type": "execute_result",
          "data": {
            "text/plain": [
              "(97, 8)"
            ]
          },
          "metadata": {
            "tags": []
          },
          "execution_count": 12
        }
      ]
    },
    {
      "cell_type": "code",
      "metadata": {
        "id": "AhCFCkok4FTP",
        "colab_type": "code",
        "colab": {}
      },
      "source": [
        "requests = []\n",
        "for _,row in df.iterrows():\n",
        "    # Prepare requests for setting a catalog of computers\n",
        "    r = SetItemValues(\n",
        "        row[\"campaignid\"], #itemId\n",
        "        #values:\n",
        "        {\n",
        "            'city':     row[\"city\"],\n",
        "            'state':    row[\"state\"],\n",
        "            'country':  row['country'],\n",
        "            'tags':     row['tags'],\n",
        "            'IsActive': row['IsActive'],\n",
        "            'ngo':      row[\"ngo\"],\n",
        "            'campaignType': row[\"campaignType\"]\n",
        "        },\n",
        "        cascade_create=True   # Use cascadeCreate for creating item\n",
        "                              # with given itemId if it doesn't exist\n",
        "      )\n",
        "    requests.append(r)"
      ],
      "execution_count": 0,
      "outputs": []
    },
    {
      "cell_type": "code",
      "metadata": {
        "id": "ksIwN36Omghi",
        "colab_type": "code",
        "outputId": "c8231512-cabd-49bc-e36c-99e31e6a7e9a",
        "colab": {
          "base_uri": "https://localhost:8080/",
          "height": 1000
        }
      },
      "source": [
        "# Send catalog to the recommender system\n",
        "client.send(Batch(requests))"
      ],
      "execution_count": 0,
      "outputs": [
        {
          "output_type": "execute_result",
          "data": {
            "text/plain": [
              "[{'code': 200, 'json': 'ok'},\n",
              " {'code': 200, 'json': 'ok'},\n",
              " {'code': 200, 'json': 'ok'},\n",
              " {'code': 200, 'json': 'ok'},\n",
              " {'code': 200, 'json': 'ok'},\n",
              " {'code': 200, 'json': 'ok'},\n",
              " {'code': 200, 'json': 'ok'},\n",
              " {'code': 200, 'json': 'ok'},\n",
              " {'code': 200, 'json': 'ok'},\n",
              " {'code': 200, 'json': 'ok'},\n",
              " {'code': 200, 'json': 'ok'},\n",
              " {'code': 200, 'json': 'ok'},\n",
              " {'code': 200, 'json': 'ok'},\n",
              " {'code': 200, 'json': 'ok'},\n",
              " {'code': 200, 'json': 'ok'},\n",
              " {'code': 200, 'json': 'ok'},\n",
              " {'code': 200, 'json': 'ok'},\n",
              " {'code': 200, 'json': 'ok'},\n",
              " {'code': 200, 'json': 'ok'},\n",
              " {'code': 200, 'json': 'ok'},\n",
              " {'code': 200, 'json': 'ok'},\n",
              " {'code': 200, 'json': 'ok'},\n",
              " {'code': 200, 'json': 'ok'},\n",
              " {'code': 200, 'json': 'ok'},\n",
              " {'code': 200, 'json': 'ok'},\n",
              " {'code': 200, 'json': 'ok'},\n",
              " {'code': 200, 'json': 'ok'},\n",
              " {'code': 200, 'json': 'ok'},\n",
              " {'code': 200, 'json': 'ok'},\n",
              " {'code': 200, 'json': 'ok'},\n",
              " {'code': 200, 'json': 'ok'},\n",
              " {'code': 200, 'json': 'ok'},\n",
              " {'code': 200, 'json': 'ok'},\n",
              " {'code': 200, 'json': 'ok'},\n",
              " {'code': 200, 'json': 'ok'},\n",
              " {'code': 200, 'json': 'ok'},\n",
              " {'code': 200, 'json': 'ok'},\n",
              " {'code': 200, 'json': 'ok'},\n",
              " {'code': 200, 'json': 'ok'},\n",
              " {'code': 200, 'json': 'ok'},\n",
              " {'code': 200, 'json': 'ok'},\n",
              " {'code': 200, 'json': 'ok'},\n",
              " {'code': 200, 'json': 'ok'},\n",
              " {'code': 200, 'json': 'ok'},\n",
              " {'code': 200, 'json': 'ok'},\n",
              " {'code': 200, 'json': 'ok'},\n",
              " {'code': 200, 'json': 'ok'},\n",
              " {'code': 200, 'json': 'ok'},\n",
              " {'code': 200, 'json': 'ok'},\n",
              " {'code': 200, 'json': 'ok'},\n",
              " {'code': 200, 'json': 'ok'},\n",
              " {'code': 200, 'json': 'ok'},\n",
              " {'code': 200, 'json': 'ok'},\n",
              " {'code': 200, 'json': 'ok'},\n",
              " {'code': 200, 'json': 'ok'},\n",
              " {'code': 200, 'json': 'ok'},\n",
              " {'code': 200, 'json': 'ok'},\n",
              " {'code': 200, 'json': 'ok'},\n",
              " {'code': 200, 'json': 'ok'},\n",
              " {'code': 200, 'json': 'ok'},\n",
              " {'code': 200, 'json': 'ok'},\n",
              " {'code': 200, 'json': 'ok'},\n",
              " {'code': 200, 'json': 'ok'},\n",
              " {'code': 200, 'json': 'ok'},\n",
              " {'code': 200, 'json': 'ok'},\n",
              " {'code': 200, 'json': 'ok'},\n",
              " {'code': 200, 'json': 'ok'},\n",
              " {'code': 200, 'json': 'ok'},\n",
              " {'code': 200, 'json': 'ok'},\n",
              " {'code': 200, 'json': 'ok'},\n",
              " {'code': 200, 'json': 'ok'},\n",
              " {'code': 200, 'json': 'ok'},\n",
              " {'code': 200, 'json': 'ok'},\n",
              " {'code': 200, 'json': 'ok'},\n",
              " {'code': 200, 'json': 'ok'},\n",
              " {'code': 200, 'json': 'ok'},\n",
              " {'code': 200, 'json': 'ok'},\n",
              " {'code': 200, 'json': 'ok'},\n",
              " {'code': 200, 'json': 'ok'},\n",
              " {'code': 200, 'json': 'ok'},\n",
              " {'code': 200, 'json': 'ok'},\n",
              " {'code': 200, 'json': 'ok'},\n",
              " {'code': 200, 'json': 'ok'},\n",
              " {'code': 200, 'json': 'ok'},\n",
              " {'code': 200, 'json': 'ok'},\n",
              " {'code': 200, 'json': 'ok'},\n",
              " {'code': 200, 'json': 'ok'},\n",
              " {'code': 200, 'json': 'ok'},\n",
              " {'code': 200, 'json': 'ok'},\n",
              " {'code': 200, 'json': 'ok'},\n",
              " {'code': 200, 'json': 'ok'},\n",
              " {'code': 200, 'json': 'ok'},\n",
              " {'code': 200, 'json': 'ok'},\n",
              " {'code': 200, 'json': 'ok'},\n",
              " {'code': 200, 'json': 'ok'},\n",
              " {'code': 200, 'json': 'ok'},\n",
              " {'code': 200, 'json': 'ok'}]"
            ]
          },
          "metadata": {
            "tags": []
          },
          "execution_count": 15
        }
      ]
    },
    {
      "cell_type": "markdown",
      "metadata": {
        "id": "mfHUv7dhL5aC",
        "colab_type": "text"
      },
      "source": [
        "## Adding fields for user"
      ]
    },
    {
      "cell_type": "code",
      "metadata": {
        "id": "9z7Ai3UVL4pQ",
        "colab_type": "code",
        "outputId": "8b4ecaab-9253-404b-ca0b-69e95bef5d01",
        "colab": {
          "base_uri": "https://localhost:8080/",
          "height": 34
        }
      },
      "source": [
        "client.send(AddUserProperty(\"age\", \"double\"))\n",
        "client.send(AddUserProperty(\"gender\", \"string\"))\n",
        "client.send(AddUserProperty(\"location\", \"string\"))\n",
        "client.send(AddUserProperty(\"income\", \"double\"))\n",
        "client.send(AddUserProperty(\"education\", \"string\"))\n",
        "client.send(AddUserProperty(\"interest\", \"set\"))  ### ==> General, Health, Education"
      ],
      "execution_count": 0,
      "outputs": [
        {
          "output_type": "execute_result",
          "data": {
            "text/plain": [
              "'ok'"
            ]
          },
          "metadata": {
            "tags": []
          },
          "execution_count": 16
        }
      ]
    },
    {
      "cell_type": "code",
      "metadata": {
        "id": "6bnUGQU0O2l4",
        "colab_type": "code",
        "outputId": "edd7b8a4-3973-4a46-94b5-c1583cf7cc36",
        "colab": {
          "base_uri": "https://localhost:8080/",
          "height": 34
        }
      },
      "source": [
        "%%writefile user.csv\n",
        "sazenId,age,gender,location,income,education,interest\n",
        "5c529aae917aac0011f3a1cf,30,M,Bengaluru,45684,SSC,\"['Education','General']\"\n",
        "5c4eca02045bbda55590dd84,30,M,Kevadia,45684,SSC,\"['General','Health']\"\n",
        "5afaad90abacd6001b774ab5,30,M,Benaluru,45684,SSC,\"['General','Education','Health']\""
      ],
      "execution_count": 0,
      "outputs": [
        {
          "output_type": "stream",
          "text": [
            "Writing user.csv\n"
          ],
          "name": "stdout"
        }
      ]
    },
    {
      "cell_type": "code",
      "metadata": {
        "id": "WO7Jh-MNP30E",
        "colab_type": "code",
        "colab": {}
      },
      "source": [
        "dfi = pd.read_csv(\"user.csv\")\n",
        "# Prepare some purchases of items by users\n",
        "requests = []\n",
        "\n",
        "for _,row in dfi.iterrows():\n",
        "      requests.append(AddUser(row[\"sazenId\"]))\n",
        "      #requests.append(AddDetailView(row[\"sazenId\"],row[\"campaignid\"],cascade_create=True))"
      ],
      "execution_count": 0,
      "outputs": []
    },
    {
      "cell_type": "code",
      "metadata": {
        "id": "R7ifeJK4Sj4A",
        "colab_type": "code",
        "outputId": "cc59f26b-d034-4954-8bcf-05f3386cc2fc",
        "colab": {
          "base_uri": "https://localhost:8080/",
          "height": 68
        }
      },
      "source": [
        "client.send(Batch(requests))"
      ],
      "execution_count": 0,
      "outputs": [
        {
          "output_type": "execute_result",
          "data": {
            "text/plain": [
              "[{'code': 201, 'json': 'ok'},\n",
              " {'code': 201, 'json': 'ok'},\n",
              " {'code': 201, 'json': 'ok'}]"
            ]
          },
          "metadata": {
            "tags": []
          },
          "execution_count": 19
        }
      ]
    },
    {
      "cell_type": "code",
      "metadata": {
        "id": "UqTkfsvgSysj",
        "colab_type": "code",
        "colab": {}
      },
      "source": [
        "dfi = pd.read_csv(\"user.csv\")\n",
        "#dfi = pd.read_csv(\"ngo_based_change.csv\")\n",
        "# Prepare some purchases of items by users\n",
        "requests = []\n",
        "import ast\n",
        "for _,row in dfi.iterrows():\n",
        "      requests.append(SetUserValues(\n",
        "          row[\"sazenId\"],\n",
        "          {\n",
        "              \"age\" : row[\"age\"],\n",
        "              \"gender\": row[\"gender\"],\n",
        "              \"income\": row[\"income\"],\n",
        "              \"location\" : row[\"location\"],\n",
        "              \"education\" : row[\"education\"],\n",
        "              \"interest\"  : ast.literal_eval(row[\"interest\"])\n",
        "          },cascade_create=True\n",
        "          ))\n",
        "      #requests.append(AddDetailView(row[\"sazenId\"],row[\"campaignid\"],cascade_create=True))"
      ],
      "execution_count": 0,
      "outputs": []
    },
    {
      "cell_type": "code",
      "metadata": {
        "id": "HIItjG81UxqX",
        "colab_type": "code",
        "outputId": "fa187884-6a92-4595-c367-8c16212aa0f2",
        "colab": {
          "base_uri": "https://localhost:8080/",
          "height": 68
        }
      },
      "source": [
        "client.send(Batch(requests))"
      ],
      "execution_count": 0,
      "outputs": [
        {
          "output_type": "execute_result",
          "data": {
            "text/plain": [
              "[{'code': 200, 'json': 'ok'},\n",
              " {'code': 200, 'json': 'ok'},\n",
              " {'code': 200, 'json': 'ok'}]"
            ]
          },
          "metadata": {
            "tags": []
          },
          "execution_count": 21
        }
      ]
    },
    {
      "cell_type": "code",
      "metadata": {
        "id": "XltorTmKQiX5",
        "colab_type": "code",
        "outputId": "579dcbf6-9a49-48b6-b537-d511aedcd340",
        "colab": {
          "base_uri": "https://localhost:8080/",
          "height": 34
        }
      },
      "source": [
        "%%writefile ngo_based.csv\n",
        "sazenId,campaignid,random\n",
        "5c4eca02045bbda55590dd84,5ca4cbdb5305a3cf88c6258e,3\n",
        "5c4eca02045bbda55590dd84,5ca5c917762308767b8bcd3a,3\n",
        "5c4eca02045bbda55590dd84,5ca5ce2f762308767b8bcd51,3\n",
        "5c4eca02045bbda55590dd84,5ca5cf33762308767b8bcd8c,3\n",
        "5c4eca02045bbda55590dd84,5cb094916274475fdd8899af,3\n",
        "5c4eca02045bbda55590dd84,5cb96dfc6d6e2af7fba0b12c,4\n",
        "5c4eca02045bbda55590dd84,5cb9b7e5da48d22671b53daa,4\n",
        "5c4eca02045bbda55590dd84,5cb9bb6a76f302286b1f2dea,4\n",
        "5c4eca02045bbda55590dd84,5cb9beea44982728ca33c57a,2\n",
        "5c4eca02045bbda55590dd84,5cbd3c76a750b609ec903906,2\n",
        "5c4eca02045bbda55590dd84,5ca091f60423b9fb4b03f199,3\n",
        "5c4eca02045bbda55590dd84,5cb454ebbdfb7e70901607d5,3\n",
        "5c4eca02045bbda55590dd84,5ca0a7530aaf3f61807e1062,3\n",
        "5c4eca02045bbda55590dd84,5ca1ad420738b94bec5b0b91,3\n",
        "5c4eca02045bbda55590dd84,5ca5ced4762308767b8bcd71,3\n",
        "5c4eca02045bbda55590dd84,5ca60afa48e2d4a60fe7076c,3\n",
        "5c4eca02045bbda55590dd84,5ca6e12220b120a140e619ea,3\n",
        "5c4eca02045bbda55590dd84,5ca7012723e4611328f80bda,3\n",
        "5c4eca02045bbda55590dd84,5caf3255c864f7182ceaabc3,3\n",
        "5c4eca02045bbda55590dd84,5cb4553bbdfb7e70901607e7,3\n",
        "5c4eca02045bbda55590dd84,5cb597d3497d72232033185d,4\n",
        "5c4eca02045bbda55590dd84,5cb9bc501fd7c12886a5d760,4\n",
        "5c4eca02045bbda55590dd84,5cb9bd7944982728ca33c55f,4\n",
        "5c4eca02045bbda55590dd84,5cbd42371c036f0cc1b04076,4\n",
        "5c4eca02045bbda55590dd84,5cbd42b61c036f0cc1b0408e,2\n",
        "5c4eca02045bbda55590dd84,5cbd44152922b10d80d780cc,2\n",
        "5c4eca02045bbda55590dd84,5cbd60dc541fec184604613d,2\n",
        "5c4eca02045bbda55590dd84,5cc32109f3b060ce121bc09f,2\n",
        "5c4eca02045bbda55590dd84,5cc330f137baefe473580506,2\n",
        "5c4eca02045bbda55590dd84,5cc3312337baefe473580517,2\n",
        "5c4eca02045bbda55590dd84,5cc3316737baefe473580536,2\n",
        "5c4eca02045bbda55590dd84,5d00a7177afa8502eb0734c3,2\n",
        "5c4eca02045bbda55590dd84,5d00f16ff6a60c0014c6e1eb,2\n",
        "5c4eca02045bbda55590dd84,5d077e120ba1023371220d51,2\n",
        "5c4eca02045bbda55590dd84,5d24815aabce3162e392b459,2\n",
        "5c4eca02045bbda55590dd84,5d25b2b6e6db3c2ba0ac57a2,2\n",
        "5c4eca02045bbda55590dd84,5ca051a6c29d45477d90ca7e,3\n",
        "5c4eca02045bbda55590dd84,5ca094a6c29d45477d90cb09,3\n",
        "5c4eca02045bbda55590dd84,5ca214dc25e6ad51d90896b3,4\n",
        "5c4eca02045bbda55590dd84,5ca367c0b7243767cac4ff8f,4\n",
        "5c4eca02045bbda55590dd84,5ca4a758c554d63d4e18416f,4\n",
        "5c4eca02045bbda55590dd84,5ca05944585385cb612c1bb3,4\n",
        "5c4eca02045bbda55590dd84,5cb59759497d722320331848,4\n",
        "5c4eca02045bbda55590dd84,5cb96ee07e64474d07441a99,2\n",
        "5c4eca02045bbda55590dd84,5cb96fd17e64474d07441ab5,2\n",
        "5c4eca02045bbda55590dd84,5cbd5fb3100a6617e1d72c7d,2\n",
        "5c4eca02045bbda55590dd84,5cc321c1f3b060ce121bc0b0,2\n",
        "5c4eca02045bbda55590dd84,5cc330c937baefe4735804fa,2\n",
        "5c4eca02045bbda55590dd84,5cfdebd081b899d31e62496c,2\n",
        "5c529aae917aac0011f3a1cf,5d0881ee830acc143d7b1058,2\n",
        "5c529aae917aac0011f3a1cf,5d135adb9f3c071e9eb447d1,3\n",
        "5c529aae917aac0011f3a1cf,5d2318ea1ffbf631b12451fd,4\n",
        "5c529aae917aac0011f3a1cf,5d25b804d04b442cac24d0ef,1\n",
        "5c529aae917aac0011f3a1cf,5d25cceb2ea5a530c229a577,2\n",
        "5c529aae917aac0011f3a1cf,5d25cd0f2ea5a530c229a587,3\n",
        "5c529aae917aac0011f3a1cf,5d25cdb12ea5a530c229a5b6,4\n",
        "5c529aae917aac0011f3a1cf,5d2c6352e8e853dbb762d6d5,0\n",
        "5c529aae917aac0011f3a1cf,5d2d9fe8d3758d11e63cf636,1\n",
        "5c529aae917aac0011f3a1cf,5d316a890535df31c9f83ba2,2\n",
        "5c529aae917aac0011f3a1cf,5d393bf6e0b84c8680c853ef,3\n",
        "5c529aae917aac0011f3a1cf,5d39587aad763e2367b4bf5a,4\n",
        "5c529aae917aac0011f3a1cf,5d396a785381d4252b078f6d,1\n",
        "5c529aae917aac0011f3a1cf,5d4bc754732c6f18a6ebce85,2\n",
        "5c529aae917aac0011f3a1cf,5d4bd06fe9ee9819383d1592,3\n",
        "5afaad90abacd6001b774ab5,5cbd6053541fec184604611a,1\n",
        "5afaad90abacd6001b774ab5,5cbd607d541fec1846046129,2\n",
        "5afaad90abacd6001b774ab5,5cc163c9fcf7ac12b6e1596c,3\n",
        "5afaad90abacd6001b774ab5,5cc321eff3b060ce121bc0bd,4\n",
        "5afaad90abacd6001b774ab5,5ce235b612e2e80913a4aa80,1\n",
        "5afaad90abacd6001b774ab5,5cfe2f41c3a29041e17ad00d,2\n",
        "5afaad90abacd6001b774ab5,5cfe3027c3a29041e17ad01c,3\n",
        "5afaad90abacd6001b774ab5,5d0b5029e722871eb977df00,4"
      ],
      "execution_count": 0,
      "outputs": [
        {
          "output_type": "stream",
          "text": [
            "Writing ngo_based.csv\n"
          ],
          "name": "stdout"
        }
      ]
    },
    {
      "cell_type": "code",
      "metadata": {
        "id": "NdI_jo5ssPIJ",
        "colab_type": "code",
        "colab": {}
      },
      "source": [
        "# %%writefile ngo_based.csv\n",
        "# sazenId,campaignid\n",
        "# 5afaad90abacd6001b774ab5,5ca5ce2f762308767b8bcd51\n",
        "# 5afaad90abacd6001b774ab5,5ca214dc25e6ad51d90896b3\n",
        "# 5afaad90abacd6001b774ab5,5ca5cf33762308767b8bcd8c\n",
        "# 5afaad90abacd6001b774ab5,5ca60afa48e2d4a60fe7076c\n",
        "# 5afaad90abacd6001b774ab5,5cb597d3497d72232033185d\n",
        "# 5afaad90abacd6001b774ab5,5cbd42b61c036f0cc1b0408e\n",
        "# 5afaad90abacd6001b774ab5,5cbd6053541fec184604611a\n",
        "# 5afaad90abacd6001b774ab5,5cbd607d541fec1846046129\n",
        "# 5afaad90abacd6001b774ab5,5cc321eff3b060ce121bc0bd\n",
        "# 5afaad90abacd6001b774ab5,5cc330c937baefe4735804fa\n",
        "# 5c4eca02045bbda55590dd84,5cb094916274475fdd8899af\n",
        "# 5c4eca02045bbda55590dd84,5ca5ced4762308767b8bcd71\n",
        "# 5c4eca02045bbda55590dd84,5ca1ad420738b94bec5b0b91\n",
        "# 5c4eca02045bbda55590dd84,5ca367c0b7243767cac4ff8f\n",
        "# 5c4eca02045bbda55590dd84,5caf3255c864f7182ceaabc3\n",
        "# 5c4eca02045bbda55590dd84,5cb9beea44982728ca33c57a\n",
        "# 5c4eca02045bbda55590dd84,5cbd42371c036f0cc1b04076\n",
        "# 5c4eca02045bbda55590dd84,5cbd5fb3100a6617e1d72c7d\n",
        "# 5c4eca02045bbda55590dd84,5cc32109f3b060ce121bc09f\n",
        "# 5c4eca02045bbda55590dd84,5cc3312337baefe473580517\n",
        "# 5c4eca02045bbda55590dd84,5ce235b612e2e80913a4aa80\n",
        "# 5c4eca02045bbda55590dd84,5d0881ee830acc143d7b1058\n",
        "# 5c4eca02045bbda55590dd84,5d135adb9f3c071e9eb447d1\n",
        "# 5c4eca02045bbda55590dd84,5d077e120ba1023371220d51\n",
        "# 5c4eca02045bbda55590dd84,5d2854cdd66f137fe67ea4b4\n",
        "# 5c4eca02045bbda55590dd84,5d2da32ad3758d11e63cf66a\n",
        "# 5c4eca02045bbda55590dd84,5d396a785381d4252b078f6d\n",
        "# 5c4eca02045bbda55590dd84,5d3ec874123b3575b9c90395\n",
        "# 5c529aae917aac0011f3a1cf,5ca091f60423b9fb4b03f199\n",
        "# 5c529aae917aac0011f3a1cf,5ca094a6c29d45477d90cb09\n",
        "# 5c529aae917aac0011f3a1cf,5ca0a7530aaf3f61807e1062\n",
        "# 5c529aae917aac0011f3a1cf,5cb454ebbdfb7e70901607d5\n",
        "# 5c529aae917aac0011f3a1cf,5ca5c917762308767b8bcd3a\n",
        "# 5c529aae917aac0011f3a1cf,5ca7012723e4611328f80bda\n",
        "# 5c529aae917aac0011f3a1cf,5cb4553bbdfb7e70901607e7\n",
        "# 5c529aae917aac0011f3a1cf,5cb59759497d722320331848\n",
        "# 5c529aae917aac0011f3a1cf,5cb96dfc6d6e2af7fba0b12c\n",
        "# 5c529aae917aac0011f3a1cf,5cb9b7e5da48d22671b53daa\n",
        "# 5c529aae917aac0011f3a1cf,5cb9bd7944982728ca33c55f\n",
        "# 5c529aae917aac0011f3a1cf,5cbd3c76a750b609ec903906\n",
        "# 5c529aae917aac0011f3a1cf,5cbd60dc541fec184604613d\n",
        "# 5c529aae917aac0011f3a1cf,5cc3316737baefe473580536\n",
        "# 5c529aae917aac0011f3a1cf,5cfdebd081b899d31e62496c\n",
        "# 5c529aae917aac0011f3a1cf,5cfe2f41c3a29041e17ad00d\n",
        "# 5c529aae917aac0011f3a1cf,5d00a7177afa8502eb0734c3\n",
        "# 5c529aae917aac0011f3a1cf,5d00f16ff6a60c0014c6e1eb\n",
        "# 5c529aae917aac0011f3a1cf,5d2c6352e8e853dbb762d6d5\n",
        "# 5c529aae917aac0011f3a1cf,5d2ffda20535df31c9f83b63\n",
        "# 5c529aae917aac0011f3a1cf,5d393bf6e0b84c8680c853ef"
      ],
      "execution_count": 0,
      "outputs": []
    },
    {
      "cell_type": "code",
      "metadata": {
        "id": "kS1NOHbQizLu",
        "colab_type": "code",
        "colab": {}
      },
      "source": [
        "import numpy as np\n",
        "# np.ra"
      ],
      "execution_count": 0,
      "outputs": []
    },
    {
      "cell_type": "code",
      "metadata": {
        "id": "2WJEOEWwzkXg",
        "colab_type": "code",
        "outputId": "bff6c3d7-d527-4c9a-f541-a6725e10fdb1",
        "colab": {
          "base_uri": "https://localhost:8080/",
          "height": 34
        }
      },
      "source": [
        "dfi.shape"
      ],
      "execution_count": 0,
      "outputs": [
        {
          "output_type": "execute_result",
          "data": {
            "text/plain": [
              "(3, 7)"
            ]
          },
          "metadata": {
            "tags": []
          },
          "execution_count": 25
        }
      ]
    },
    {
      "cell_type": "code",
      "metadata": {
        "id": "0LH5Z3hVF3QC",
        "colab_type": "code",
        "colab": {}
      },
      "source": [
        "dfi = pd.read_csv(\"ngo_based.csv\")\n",
        "#dfi = pd.read_csv(\"ngo_based.csv\")\n",
        "#dfi[\"random\"] =  np.random.randint(6,size=dfi.shape[0])\n",
        "requests = []\n",
        "#AddDetailView,AddPurchase,AddBookmark,AddRating,AddCartAddition,SetViewPortion\n",
        "for _,row in dfi.iterrows():\n",
        "      if row[\"random\"]==0:\n",
        "        requests.append(AddDetailView(row[\"sazenId\"],row[\"campaignid\"],cascade_create=True))\n",
        "      elif row[\"random\"]==1:\n",
        "        requests.append(AddPurchase(row[\"sazenId\"],row[\"campaignid\"],cascade_create=True))\n",
        "      elif row[\"random\"]==2:\n",
        "        requests.append(AddBookmark(row[\"sazenId\"],row[\"campaignid\"],cascade_create=True))\n",
        "      elif row[\"random\"]==3:\n",
        "        requests.append(AddRating(row[\"sazenId\"],row[\"campaignid\"],1.0,cascade_create=True))\n",
        "      elif row[\"random\"]==4:\n",
        "        requests.append(AddCartAddition(row[\"sazenId\"],row[\"campaignid\"],cascade_create=True))    \n",
        "      else:\n",
        "        requests.append(SetViewPortion(row[\"sazenId\"],row[\"campaignid\"],1.0,cascade_create=True))  "
      ],
      "execution_count": 0,
      "outputs": []
    },
    {
      "cell_type": "code",
      "metadata": {
        "id": "iOpJ1otln-Vj",
        "colab_type": "code",
        "outputId": "e0eb1ce1-4636-4e5a-cf9c-e7ad6bb1b97b",
        "colab": {
          "base_uri": "https://localhost:8080/",
          "height": 1000
        }
      },
      "source": [
        "# Send catalog to the recommender system\n",
        "client.send(Batch(requests))"
      ],
      "execution_count": 0,
      "outputs": [
        {
          "output_type": "execute_result",
          "data": {
            "text/plain": [
              "[{'code': 200, 'json': 'ok'},\n",
              " {'code': 200, 'json': 'ok'},\n",
              " {'code': 200, 'json': 'ok'},\n",
              " {'code': 200, 'json': 'ok'},\n",
              " {'code': 200, 'json': 'ok'},\n",
              " {'code': 200, 'json': 'ok'},\n",
              " {'code': 200, 'json': 'ok'},\n",
              " {'code': 200, 'json': 'ok'},\n",
              " {'code': 200, 'json': 'ok'},\n",
              " {'code': 200, 'json': 'ok'},\n",
              " {'code': 200, 'json': 'ok'},\n",
              " {'code': 200, 'json': 'ok'},\n",
              " {'code': 200, 'json': 'ok'},\n",
              " {'code': 200, 'json': 'ok'},\n",
              " {'code': 200, 'json': 'ok'},\n",
              " {'code': 200, 'json': 'ok'},\n",
              " {'code': 200, 'json': 'ok'},\n",
              " {'code': 200, 'json': 'ok'},\n",
              " {'code': 200, 'json': 'ok'},\n",
              " {'code': 200, 'json': 'ok'},\n",
              " {'code': 200, 'json': 'ok'},\n",
              " {'code': 200, 'json': 'ok'},\n",
              " {'code': 200, 'json': 'ok'},\n",
              " {'code': 200, 'json': 'ok'},\n",
              " {'code': 200, 'json': 'ok'},\n",
              " {'code': 200, 'json': 'ok'},\n",
              " {'code': 200, 'json': 'ok'},\n",
              " {'code': 200, 'json': 'ok'},\n",
              " {'code': 200, 'json': 'ok'},\n",
              " {'code': 200, 'json': 'ok'},\n",
              " {'code': 200, 'json': 'ok'},\n",
              " {'code': 200, 'json': 'ok'},\n",
              " {'code': 200, 'json': 'ok'},\n",
              " {'code': 200, 'json': 'ok'},\n",
              " {'code': 200, 'json': 'ok'},\n",
              " {'code': 200, 'json': 'ok'},\n",
              " {'code': 200, 'json': 'ok'},\n",
              " {'code': 200, 'json': 'ok'},\n",
              " {'code': 200, 'json': 'ok'},\n",
              " {'code': 200, 'json': 'ok'},\n",
              " {'code': 200, 'json': 'ok'},\n",
              " {'code': 200, 'json': 'ok'},\n",
              " {'code': 200, 'json': 'ok'},\n",
              " {'code': 200, 'json': 'ok'},\n",
              " {'code': 200, 'json': 'ok'},\n",
              " {'code': 200, 'json': 'ok'},\n",
              " {'code': 200, 'json': 'ok'},\n",
              " {'code': 200, 'json': 'ok'},\n",
              " {'code': 200, 'json': 'ok'},\n",
              " {'code': 200, 'json': 'ok'},\n",
              " {'code': 200, 'json': 'ok'},\n",
              " {'code': 200, 'json': 'ok'},\n",
              " {'code': 200, 'json': 'ok'},\n",
              " {'code': 200, 'json': 'ok'},\n",
              " {'code': 200, 'json': 'ok'},\n",
              " {'code': 200, 'json': 'ok'},\n",
              " {'code': 200, 'json': 'ok'},\n",
              " {'code': 200, 'json': 'ok'},\n",
              " {'code': 200, 'json': 'ok'},\n",
              " {'code': 200, 'json': 'ok'},\n",
              " {'code': 200, 'json': 'ok'},\n",
              " {'code': 200, 'json': 'ok'},\n",
              " {'code': 200, 'json': 'ok'},\n",
              " {'code': 200, 'json': 'ok'},\n",
              " {'code': 200, 'json': 'ok'},\n",
              " {'code': 200, 'json': 'ok'},\n",
              " {'code': 200, 'json': 'ok'},\n",
              " {'code': 200, 'json': 'ok'},\n",
              " {'code': 200, 'json': 'ok'},\n",
              " {'code': 200, 'json': 'ok'},\n",
              " {'code': 200, 'json': 'ok'},\n",
              " {'code': 200, 'json': 'ok'}]"
            ]
          },
          "metadata": {
            "tags": []
          },
          "execution_count": 28
        }
      ]
    },
    {
      "cell_type": "code",
      "metadata": {
        "id": "H1e18JDyBV57",
        "colab_type": "code",
        "outputId": "787df698-e51b-4945-af8d-0b810e418765",
        "colab": {
          "base_uri": "https://localhost:8080/",
          "height": 204
        }
      },
      "source": [
        "dfi.head()"
      ],
      "execution_count": 0,
      "outputs": [
        {
          "output_type": "execute_result",
          "data": {
            "text/html": [
              "<div>\n",
              "<style scoped>\n",
              "    .dataframe tbody tr th:only-of-type {\n",
              "        vertical-align: middle;\n",
              "    }\n",
              "\n",
              "    .dataframe tbody tr th {\n",
              "        vertical-align: top;\n",
              "    }\n",
              "\n",
              "    .dataframe thead th {\n",
              "        text-align: right;\n",
              "    }\n",
              "</style>\n",
              "<table border=\"1\" class=\"dataframe\">\n",
              "  <thead>\n",
              "    <tr style=\"text-align: right;\">\n",
              "      <th></th>\n",
              "      <th>sazenId</th>\n",
              "      <th>campaignid</th>\n",
              "      <th>random</th>\n",
              "    </tr>\n",
              "  </thead>\n",
              "  <tbody>\n",
              "    <tr>\n",
              "      <th>0</th>\n",
              "      <td>5c4eca02045bbda55590dd84</td>\n",
              "      <td>5ca4cbdb5305a3cf88c6258e</td>\n",
              "      <td>3</td>\n",
              "    </tr>\n",
              "    <tr>\n",
              "      <th>1</th>\n",
              "      <td>5c4eca02045bbda55590dd84</td>\n",
              "      <td>5ca5c917762308767b8bcd3a</td>\n",
              "      <td>3</td>\n",
              "    </tr>\n",
              "    <tr>\n",
              "      <th>2</th>\n",
              "      <td>5c4eca02045bbda55590dd84</td>\n",
              "      <td>5ca5ce2f762308767b8bcd51</td>\n",
              "      <td>3</td>\n",
              "    </tr>\n",
              "    <tr>\n",
              "      <th>3</th>\n",
              "      <td>5c4eca02045bbda55590dd84</td>\n",
              "      <td>5ca5cf33762308767b8bcd8c</td>\n",
              "      <td>3</td>\n",
              "    </tr>\n",
              "    <tr>\n",
              "      <th>4</th>\n",
              "      <td>5c4eca02045bbda55590dd84</td>\n",
              "      <td>5cb094916274475fdd8899af</td>\n",
              "      <td>3</td>\n",
              "    </tr>\n",
              "  </tbody>\n",
              "</table>\n",
              "</div>"
            ],
            "text/plain": [
              "                    sazenId                campaignid  random\n",
              "0  5c4eca02045bbda55590dd84  5ca4cbdb5305a3cf88c6258e       3\n",
              "1  5c4eca02045bbda55590dd84  5ca5c917762308767b8bcd3a       3\n",
              "2  5c4eca02045bbda55590dd84  5ca5ce2f762308767b8bcd51       3\n",
              "3  5c4eca02045bbda55590dd84  5ca5cf33762308767b8bcd8c       3\n",
              "4  5c4eca02045bbda55590dd84  5cb094916274475fdd8899af       3"
            ]
          },
          "metadata": {
            "tags": []
          },
          "execution_count": 75
        }
      ]
    },
    {
      "cell_type": "code",
      "metadata": {
        "id": "t-QJzs0ChBJy",
        "colab_type": "code",
        "colab": {}
      },
      "source": [
        "# %%writefile ngo_based.csv\n",
        "# sazenId,campaignid\n",
        "# 5c4eca02045bbda55590dd84,5ca051a6c29d45477d90ca7e\n",
        "# 5c4eca02045bbda55590dd84,5ca094a6c29d45477d90cb09\n",
        "# 5c4eca02045bbda55590dd84,5ca0a7530aaf3f61807e1062\n",
        "# 5c529aae917aac0011f3a1cf,5ca5c917762308767b8bcd3a\n",
        "# 5c529aae917aac0011f3a1cf,5ca5ce2f762308767b8bcd51"
      ],
      "execution_count": 0,
      "outputs": []
    },
    {
      "cell_type": "code",
      "metadata": {
        "id": "21BQ3BbzWE_z",
        "colab_type": "code",
        "colab": {}
      },
      "source": [
        "# 5c529aae917aac0011f3a1cf,5ca1ad420738b94bec5b0b91\n",
        "# 5c529aae917aac0011f3a1cf,5ca214dc25e6ad51d90896b3"
      ],
      "execution_count": 0,
      "outputs": []
    },
    {
      "cell_type": "code",
      "metadata": {
        "id": "PExO-p2d08ZZ",
        "colab_type": "code",
        "colab": {}
      },
      "source": [
        "# %%writefile ngo_based_change.csv\n",
        "# sazenId,campaignid\n",
        "# 5c529aae917aac0011f3a1cf,5ca05944585385cb612c1bb3\n",
        "# 5c529aae917aac0011f3a1cf,5cb96dfc6d6e2af7fba0b12c\n",
        "# 5c529aae917aac0011f3a1cf,5cb96ee07e64474d07441a99\n",
        "# 5c529aae917aac0011f3a1cf,5cb96fd17e64474d07441ab5\n",
        "\n",
        "# 5c4eca02045bbda55590dd84,5ca367c0b7243767cac4ff8f\n",
        "# 5c4eca02045bbda55590dd84,5ca4cbdb5305a3cf88c6258e\n",
        "# 5c4eca02045bbda55590dd84,5ca7012723e4611328f80bda\n",
        "# 5c4eca02045bbda55590dd84,5caf3255c864f7182ceaabc3\n",
        "# 5c529aae917aac0011f3a1cf,5ca1ad420738b94bec5b0b91\n",
        "# 5c529aae917aac0011f3a1cf,5ca214dc25e6ad51d90896b3"
      ],
      "execution_count": 0,
      "outputs": []
    },
    {
      "cell_type": "code",
      "metadata": {
        "id": "tF7RQUffnNk3",
        "colab_type": "code",
        "colab": {}
      },
      "source": [
        "# test = SetItemValues(\n",
        "#       \"movie_\"+\"1\", #itemId\n",
        "#       #values:\n",
        "#       {\n",
        "#         'rating': 500\n",
        "#         #'timestamp': row[\"timestamp\"]\n",
        "#       },\n",
        "#       cascade_create=True   # Use cascadeCreate for creating item\n",
        "#                             # with given itemId if it doesn't exist\n",
        "#     )\n",
        "# client.send(test)"
      ],
      "execution_count": 0,
      "outputs": []
    },
    {
      "cell_type": "code",
      "metadata": {
        "id": "-N0fDgKGYQ9s",
        "colab_type": "code",
        "colab": {}
      },
      "source": [
        "import matplotlib.pyplot as plt"
      ],
      "execution_count": 0,
      "outputs": []
    },
    {
      "cell_type": "code",
      "metadata": {
        "id": "oxuETMXCHnfK",
        "colab_type": "code",
        "outputId": "4dd56c11-a2c9-44aa-9182-f031d0cb2560",
        "colab": {
          "base_uri": "https://localhost:8080/",
          "height": 1000
        }
      },
      "source": [
        "dfi[dfi[\"sazenId\"]==\"5c4eca02045bbda55590dd84\"]"
      ],
      "execution_count": 0,
      "outputs": [
        {
          "output_type": "execute_result",
          "data": {
            "text/html": [
              "<div>\n",
              "<style scoped>\n",
              "    .dataframe tbody tr th:only-of-type {\n",
              "        vertical-align: middle;\n",
              "    }\n",
              "\n",
              "    .dataframe tbody tr th {\n",
              "        vertical-align: top;\n",
              "    }\n",
              "\n",
              "    .dataframe thead th {\n",
              "        text-align: right;\n",
              "    }\n",
              "</style>\n",
              "<table border=\"1\" class=\"dataframe\">\n",
              "  <thead>\n",
              "    <tr style=\"text-align: right;\">\n",
              "      <th></th>\n",
              "      <th>sazenId</th>\n",
              "      <th>campaignid</th>\n",
              "      <th>random</th>\n",
              "    </tr>\n",
              "  </thead>\n",
              "  <tbody>\n",
              "    <tr>\n",
              "      <th>0</th>\n",
              "      <td>5c4eca02045bbda55590dd84</td>\n",
              "      <td>5ca4cbdb5305a3cf88c6258e</td>\n",
              "      <td>3</td>\n",
              "    </tr>\n",
              "    <tr>\n",
              "      <th>1</th>\n",
              "      <td>5c4eca02045bbda55590dd84</td>\n",
              "      <td>5ca5c917762308767b8bcd3a</td>\n",
              "      <td>3</td>\n",
              "    </tr>\n",
              "    <tr>\n",
              "      <th>2</th>\n",
              "      <td>5c4eca02045bbda55590dd84</td>\n",
              "      <td>5ca5ce2f762308767b8bcd51</td>\n",
              "      <td>3</td>\n",
              "    </tr>\n",
              "    <tr>\n",
              "      <th>3</th>\n",
              "      <td>5c4eca02045bbda55590dd84</td>\n",
              "      <td>5ca5cf33762308767b8bcd8c</td>\n",
              "      <td>3</td>\n",
              "    </tr>\n",
              "    <tr>\n",
              "      <th>4</th>\n",
              "      <td>5c4eca02045bbda55590dd84</td>\n",
              "      <td>5cb094916274475fdd8899af</td>\n",
              "      <td>3</td>\n",
              "    </tr>\n",
              "    <tr>\n",
              "      <th>5</th>\n",
              "      <td>5c4eca02045bbda55590dd84</td>\n",
              "      <td>5cb96dfc6d6e2af7fba0b12c</td>\n",
              "      <td>4</td>\n",
              "    </tr>\n",
              "    <tr>\n",
              "      <th>6</th>\n",
              "      <td>5c4eca02045bbda55590dd84</td>\n",
              "      <td>5cb9b7e5da48d22671b53daa</td>\n",
              "      <td>4</td>\n",
              "    </tr>\n",
              "    <tr>\n",
              "      <th>7</th>\n",
              "      <td>5c4eca02045bbda55590dd84</td>\n",
              "      <td>5cb9bb6a76f302286b1f2dea</td>\n",
              "      <td>4</td>\n",
              "    </tr>\n",
              "    <tr>\n",
              "      <th>8</th>\n",
              "      <td>5c4eca02045bbda55590dd84</td>\n",
              "      <td>5cb9beea44982728ca33c57a</td>\n",
              "      <td>2</td>\n",
              "    </tr>\n",
              "    <tr>\n",
              "      <th>9</th>\n",
              "      <td>5c4eca02045bbda55590dd84</td>\n",
              "      <td>5cbd3c76a750b609ec903906</td>\n",
              "      <td>2</td>\n",
              "    </tr>\n",
              "    <tr>\n",
              "      <th>10</th>\n",
              "      <td>5c4eca02045bbda55590dd84</td>\n",
              "      <td>5ca091f60423b9fb4b03f199</td>\n",
              "      <td>3</td>\n",
              "    </tr>\n",
              "    <tr>\n",
              "      <th>11</th>\n",
              "      <td>5c4eca02045bbda55590dd84</td>\n",
              "      <td>5cb454ebbdfb7e70901607d5</td>\n",
              "      <td>3</td>\n",
              "    </tr>\n",
              "    <tr>\n",
              "      <th>12</th>\n",
              "      <td>5c4eca02045bbda55590dd84</td>\n",
              "      <td>5ca0a7530aaf3f61807e1062</td>\n",
              "      <td>3</td>\n",
              "    </tr>\n",
              "    <tr>\n",
              "      <th>13</th>\n",
              "      <td>5c4eca02045bbda55590dd84</td>\n",
              "      <td>5ca1ad420738b94bec5b0b91</td>\n",
              "      <td>3</td>\n",
              "    </tr>\n",
              "    <tr>\n",
              "      <th>14</th>\n",
              "      <td>5c4eca02045bbda55590dd84</td>\n",
              "      <td>5ca5ced4762308767b8bcd71</td>\n",
              "      <td>3</td>\n",
              "    </tr>\n",
              "    <tr>\n",
              "      <th>15</th>\n",
              "      <td>5c4eca02045bbda55590dd84</td>\n",
              "      <td>5ca60afa48e2d4a60fe7076c</td>\n",
              "      <td>3</td>\n",
              "    </tr>\n",
              "    <tr>\n",
              "      <th>16</th>\n",
              "      <td>5c4eca02045bbda55590dd84</td>\n",
              "      <td>5ca6e12220b120a140e619ea</td>\n",
              "      <td>3</td>\n",
              "    </tr>\n",
              "    <tr>\n",
              "      <th>17</th>\n",
              "      <td>5c4eca02045bbda55590dd84</td>\n",
              "      <td>5ca7012723e4611328f80bda</td>\n",
              "      <td>3</td>\n",
              "    </tr>\n",
              "    <tr>\n",
              "      <th>18</th>\n",
              "      <td>5c4eca02045bbda55590dd84</td>\n",
              "      <td>5caf3255c864f7182ceaabc3</td>\n",
              "      <td>3</td>\n",
              "    </tr>\n",
              "    <tr>\n",
              "      <th>19</th>\n",
              "      <td>5c4eca02045bbda55590dd84</td>\n",
              "      <td>5cb4553bbdfb7e70901607e7</td>\n",
              "      <td>3</td>\n",
              "    </tr>\n",
              "    <tr>\n",
              "      <th>20</th>\n",
              "      <td>5c4eca02045bbda55590dd84</td>\n",
              "      <td>5cb597d3497d72232033185d</td>\n",
              "      <td>4</td>\n",
              "    </tr>\n",
              "    <tr>\n",
              "      <th>21</th>\n",
              "      <td>5c4eca02045bbda55590dd84</td>\n",
              "      <td>5cb9bc501fd7c12886a5d760</td>\n",
              "      <td>4</td>\n",
              "    </tr>\n",
              "    <tr>\n",
              "      <th>22</th>\n",
              "      <td>5c4eca02045bbda55590dd84</td>\n",
              "      <td>5cb9bd7944982728ca33c55f</td>\n",
              "      <td>4</td>\n",
              "    </tr>\n",
              "    <tr>\n",
              "      <th>23</th>\n",
              "      <td>5c4eca02045bbda55590dd84</td>\n",
              "      <td>5cbd42371c036f0cc1b04076</td>\n",
              "      <td>4</td>\n",
              "    </tr>\n",
              "    <tr>\n",
              "      <th>24</th>\n",
              "      <td>5c4eca02045bbda55590dd84</td>\n",
              "      <td>5cbd42b61c036f0cc1b0408e</td>\n",
              "      <td>2</td>\n",
              "    </tr>\n",
              "    <tr>\n",
              "      <th>25</th>\n",
              "      <td>5c4eca02045bbda55590dd84</td>\n",
              "      <td>5cbd44152922b10d80d780cc</td>\n",
              "      <td>2</td>\n",
              "    </tr>\n",
              "    <tr>\n",
              "      <th>26</th>\n",
              "      <td>5c4eca02045bbda55590dd84</td>\n",
              "      <td>5cbd60dc541fec184604613d</td>\n",
              "      <td>2</td>\n",
              "    </tr>\n",
              "    <tr>\n",
              "      <th>27</th>\n",
              "      <td>5c4eca02045bbda55590dd84</td>\n",
              "      <td>5cc32109f3b060ce121bc09f</td>\n",
              "      <td>2</td>\n",
              "    </tr>\n",
              "    <tr>\n",
              "      <th>28</th>\n",
              "      <td>5c4eca02045bbda55590dd84</td>\n",
              "      <td>5cc330f137baefe473580506</td>\n",
              "      <td>2</td>\n",
              "    </tr>\n",
              "    <tr>\n",
              "      <th>29</th>\n",
              "      <td>5c4eca02045bbda55590dd84</td>\n",
              "      <td>5cc3312337baefe473580517</td>\n",
              "      <td>2</td>\n",
              "    </tr>\n",
              "    <tr>\n",
              "      <th>30</th>\n",
              "      <td>5c4eca02045bbda55590dd84</td>\n",
              "      <td>5cc3316737baefe473580536</td>\n",
              "      <td>2</td>\n",
              "    </tr>\n",
              "    <tr>\n",
              "      <th>31</th>\n",
              "      <td>5c4eca02045bbda55590dd84</td>\n",
              "      <td>5d00a7177afa8502eb0734c3</td>\n",
              "      <td>2</td>\n",
              "    </tr>\n",
              "    <tr>\n",
              "      <th>32</th>\n",
              "      <td>5c4eca02045bbda55590dd84</td>\n",
              "      <td>5d00f16ff6a60c0014c6e1eb</td>\n",
              "      <td>2</td>\n",
              "    </tr>\n",
              "    <tr>\n",
              "      <th>33</th>\n",
              "      <td>5c4eca02045bbda55590dd84</td>\n",
              "      <td>5d077e120ba1023371220d51</td>\n",
              "      <td>2</td>\n",
              "    </tr>\n",
              "    <tr>\n",
              "      <th>34</th>\n",
              "      <td>5c4eca02045bbda55590dd84</td>\n",
              "      <td>5d24815aabce3162e392b459</td>\n",
              "      <td>2</td>\n",
              "    </tr>\n",
              "    <tr>\n",
              "      <th>35</th>\n",
              "      <td>5c4eca02045bbda55590dd84</td>\n",
              "      <td>5d25b2b6e6db3c2ba0ac57a2</td>\n",
              "      <td>2</td>\n",
              "    </tr>\n",
              "    <tr>\n",
              "      <th>36</th>\n",
              "      <td>5c4eca02045bbda55590dd84</td>\n",
              "      <td>5ca051a6c29d45477d90ca7e</td>\n",
              "      <td>3</td>\n",
              "    </tr>\n",
              "    <tr>\n",
              "      <th>37</th>\n",
              "      <td>5c4eca02045bbda55590dd84</td>\n",
              "      <td>5ca094a6c29d45477d90cb09</td>\n",
              "      <td>3</td>\n",
              "    </tr>\n",
              "    <tr>\n",
              "      <th>38</th>\n",
              "      <td>5c4eca02045bbda55590dd84</td>\n",
              "      <td>5ca214dc25e6ad51d90896b3</td>\n",
              "      <td>4</td>\n",
              "    </tr>\n",
              "    <tr>\n",
              "      <th>39</th>\n",
              "      <td>5c4eca02045bbda55590dd84</td>\n",
              "      <td>5ca367c0b7243767cac4ff8f</td>\n",
              "      <td>4</td>\n",
              "    </tr>\n",
              "    <tr>\n",
              "      <th>40</th>\n",
              "      <td>5c4eca02045bbda55590dd84</td>\n",
              "      <td>5ca4a758c554d63d4e18416f</td>\n",
              "      <td>4</td>\n",
              "    </tr>\n",
              "    <tr>\n",
              "      <th>41</th>\n",
              "      <td>5c4eca02045bbda55590dd84</td>\n",
              "      <td>5ca05944585385cb612c1bb3</td>\n",
              "      <td>4</td>\n",
              "    </tr>\n",
              "    <tr>\n",
              "      <th>42</th>\n",
              "      <td>5c4eca02045bbda55590dd84</td>\n",
              "      <td>5cb59759497d722320331848</td>\n",
              "      <td>4</td>\n",
              "    </tr>\n",
              "    <tr>\n",
              "      <th>43</th>\n",
              "      <td>5c4eca02045bbda55590dd84</td>\n",
              "      <td>5cb96ee07e64474d07441a99</td>\n",
              "      <td>2</td>\n",
              "    </tr>\n",
              "    <tr>\n",
              "      <th>44</th>\n",
              "      <td>5c4eca02045bbda55590dd84</td>\n",
              "      <td>5cb96fd17e64474d07441ab5</td>\n",
              "      <td>2</td>\n",
              "    </tr>\n",
              "    <tr>\n",
              "      <th>45</th>\n",
              "      <td>5c4eca02045bbda55590dd84</td>\n",
              "      <td>5cbd5fb3100a6617e1d72c7d</td>\n",
              "      <td>2</td>\n",
              "    </tr>\n",
              "    <tr>\n",
              "      <th>46</th>\n",
              "      <td>5c4eca02045bbda55590dd84</td>\n",
              "      <td>5cc321c1f3b060ce121bc0b0</td>\n",
              "      <td>2</td>\n",
              "    </tr>\n",
              "    <tr>\n",
              "      <th>47</th>\n",
              "      <td>5c4eca02045bbda55590dd84</td>\n",
              "      <td>5cc330c937baefe4735804fa</td>\n",
              "      <td>2</td>\n",
              "    </tr>\n",
              "    <tr>\n",
              "      <th>48</th>\n",
              "      <td>5c4eca02045bbda55590dd84</td>\n",
              "      <td>5cfdebd081b899d31e62496c</td>\n",
              "      <td>2</td>\n",
              "    </tr>\n",
              "  </tbody>\n",
              "</table>\n",
              "</div>"
            ],
            "text/plain": [
              "                     sazenId                campaignid  random\n",
              "0   5c4eca02045bbda55590dd84  5ca4cbdb5305a3cf88c6258e       3\n",
              "1   5c4eca02045bbda55590dd84  5ca5c917762308767b8bcd3a       3\n",
              "2   5c4eca02045bbda55590dd84  5ca5ce2f762308767b8bcd51       3\n",
              "3   5c4eca02045bbda55590dd84  5ca5cf33762308767b8bcd8c       3\n",
              "4   5c4eca02045bbda55590dd84  5cb094916274475fdd8899af       3\n",
              "5   5c4eca02045bbda55590dd84  5cb96dfc6d6e2af7fba0b12c       4\n",
              "6   5c4eca02045bbda55590dd84  5cb9b7e5da48d22671b53daa       4\n",
              "7   5c4eca02045bbda55590dd84  5cb9bb6a76f302286b1f2dea       4\n",
              "8   5c4eca02045bbda55590dd84  5cb9beea44982728ca33c57a       2\n",
              "9   5c4eca02045bbda55590dd84  5cbd3c76a750b609ec903906       2\n",
              "10  5c4eca02045bbda55590dd84  5ca091f60423b9fb4b03f199       3\n",
              "11  5c4eca02045bbda55590dd84  5cb454ebbdfb7e70901607d5       3\n",
              "12  5c4eca02045bbda55590dd84  5ca0a7530aaf3f61807e1062       3\n",
              "13  5c4eca02045bbda55590dd84  5ca1ad420738b94bec5b0b91       3\n",
              "14  5c4eca02045bbda55590dd84  5ca5ced4762308767b8bcd71       3\n",
              "15  5c4eca02045bbda55590dd84  5ca60afa48e2d4a60fe7076c       3\n",
              "16  5c4eca02045bbda55590dd84  5ca6e12220b120a140e619ea       3\n",
              "17  5c4eca02045bbda55590dd84  5ca7012723e4611328f80bda       3\n",
              "18  5c4eca02045bbda55590dd84  5caf3255c864f7182ceaabc3       3\n",
              "19  5c4eca02045bbda55590dd84  5cb4553bbdfb7e70901607e7       3\n",
              "20  5c4eca02045bbda55590dd84  5cb597d3497d72232033185d       4\n",
              "21  5c4eca02045bbda55590dd84  5cb9bc501fd7c12886a5d760       4\n",
              "22  5c4eca02045bbda55590dd84  5cb9bd7944982728ca33c55f       4\n",
              "23  5c4eca02045bbda55590dd84  5cbd42371c036f0cc1b04076       4\n",
              "24  5c4eca02045bbda55590dd84  5cbd42b61c036f0cc1b0408e       2\n",
              "25  5c4eca02045bbda55590dd84  5cbd44152922b10d80d780cc       2\n",
              "26  5c4eca02045bbda55590dd84  5cbd60dc541fec184604613d       2\n",
              "27  5c4eca02045bbda55590dd84  5cc32109f3b060ce121bc09f       2\n",
              "28  5c4eca02045bbda55590dd84  5cc330f137baefe473580506       2\n",
              "29  5c4eca02045bbda55590dd84  5cc3312337baefe473580517       2\n",
              "30  5c4eca02045bbda55590dd84  5cc3316737baefe473580536       2\n",
              "31  5c4eca02045bbda55590dd84  5d00a7177afa8502eb0734c3       2\n",
              "32  5c4eca02045bbda55590dd84  5d00f16ff6a60c0014c6e1eb       2\n",
              "33  5c4eca02045bbda55590dd84  5d077e120ba1023371220d51       2\n",
              "34  5c4eca02045bbda55590dd84  5d24815aabce3162e392b459       2\n",
              "35  5c4eca02045bbda55590dd84  5d25b2b6e6db3c2ba0ac57a2       2\n",
              "36  5c4eca02045bbda55590dd84  5ca051a6c29d45477d90ca7e       3\n",
              "37  5c4eca02045bbda55590dd84  5ca094a6c29d45477d90cb09       3\n",
              "38  5c4eca02045bbda55590dd84  5ca214dc25e6ad51d90896b3       4\n",
              "39  5c4eca02045bbda55590dd84  5ca367c0b7243767cac4ff8f       4\n",
              "40  5c4eca02045bbda55590dd84  5ca4a758c554d63d4e18416f       4\n",
              "41  5c4eca02045bbda55590dd84  5ca05944585385cb612c1bb3       4\n",
              "42  5c4eca02045bbda55590dd84  5cb59759497d722320331848       4\n",
              "43  5c4eca02045bbda55590dd84  5cb96ee07e64474d07441a99       2\n",
              "44  5c4eca02045bbda55590dd84  5cb96fd17e64474d07441ab5       2\n",
              "45  5c4eca02045bbda55590dd84  5cbd5fb3100a6617e1d72c7d       2\n",
              "46  5c4eca02045bbda55590dd84  5cc321c1f3b060ce121bc0b0       2\n",
              "47  5c4eca02045bbda55590dd84  5cc330c937baefe4735804fa       2\n",
              "48  5c4eca02045bbda55590dd84  5cfdebd081b899d31e62496c       2"
            ]
          },
          "metadata": {
            "tags": []
          },
          "execution_count": 81
        }
      ]
    },
    {
      "cell_type": "code",
      "metadata": {
        "id": "F3CiEOgdnqgZ",
        "colab_type": "code",
        "outputId": "78cdbf20-7bd8-4fd8-904b-56315e571396",
        "colab": {
          "base_uri": "https://localhost:8080/",
          "height": 204
        }
      },
      "source": [
        "dfi.head()"
      ],
      "execution_count": 0,
      "outputs": [
        {
          "output_type": "execute_result",
          "data": {
            "text/html": [
              "<div>\n",
              "<style scoped>\n",
              "    .dataframe tbody tr th:only-of-type {\n",
              "        vertical-align: middle;\n",
              "    }\n",
              "\n",
              "    .dataframe tbody tr th {\n",
              "        vertical-align: top;\n",
              "    }\n",
              "\n",
              "    .dataframe thead th {\n",
              "        text-align: right;\n",
              "    }\n",
              "</style>\n",
              "<table border=\"1\" class=\"dataframe\">\n",
              "  <thead>\n",
              "    <tr style=\"text-align: right;\">\n",
              "      <th></th>\n",
              "      <th>sazenId</th>\n",
              "      <th>campaignid</th>\n",
              "      <th>random</th>\n",
              "    </tr>\n",
              "  </thead>\n",
              "  <tbody>\n",
              "    <tr>\n",
              "      <th>0</th>\n",
              "      <td>5c4eca02045bbda55590dd84</td>\n",
              "      <td>5ca4cbdb5305a3cf88c6258e</td>\n",
              "      <td>3</td>\n",
              "    </tr>\n",
              "    <tr>\n",
              "      <th>1</th>\n",
              "      <td>5c4eca02045bbda55590dd84</td>\n",
              "      <td>5ca5c917762308767b8bcd3a</td>\n",
              "      <td>3</td>\n",
              "    </tr>\n",
              "    <tr>\n",
              "      <th>2</th>\n",
              "      <td>5c4eca02045bbda55590dd84</td>\n",
              "      <td>5ca5ce2f762308767b8bcd51</td>\n",
              "      <td>3</td>\n",
              "    </tr>\n",
              "    <tr>\n",
              "      <th>3</th>\n",
              "      <td>5c4eca02045bbda55590dd84</td>\n",
              "      <td>5ca5cf33762308767b8bcd8c</td>\n",
              "      <td>3</td>\n",
              "    </tr>\n",
              "    <tr>\n",
              "      <th>4</th>\n",
              "      <td>5c4eca02045bbda55590dd84</td>\n",
              "      <td>5cb094916274475fdd8899af</td>\n",
              "      <td>3</td>\n",
              "    </tr>\n",
              "  </tbody>\n",
              "</table>\n",
              "</div>"
            ],
            "text/plain": [
              "                    sazenId                campaignid  random\n",
              "0  5c4eca02045bbda55590dd84  5ca4cbdb5305a3cf88c6258e       3\n",
              "1  5c4eca02045bbda55590dd84  5ca5c917762308767b8bcd3a       3\n",
              "2  5c4eca02045bbda55590dd84  5ca5ce2f762308767b8bcd51       3\n",
              "3  5c4eca02045bbda55590dd84  5ca5cf33762308767b8bcd8c       3\n",
              "4  5c4eca02045bbda55590dd84  5cb094916274475fdd8899af       3"
            ]
          },
          "metadata": {
            "tags": []
          },
          "execution_count": 82
        }
      ]
    },
    {
      "cell_type": "code",
      "metadata": {
        "id": "1e49W5AHYruZ",
        "colab_type": "code",
        "colab": {}
      },
      "source": [
        "# cities = []\n",
        "# for i in range(dfi.shape[0]):\n",
        "#   temp = df[dfi[\"campaignid\"][i]==df[\"campaignid\"]][\"city\"]\n",
        "#   cities.append(temp.values[0])\n",
        "# dfi[\"city\"] = cities\n",
        "# plt.hist(dfi[dfi[\"sazenId\"]==\"5c4eca02045bbda55590dd84\"][\"city\"].to_numpy().tolist())\n",
        "# plt.xticks([0.15,1.05,1.95,2.85])"
      ],
      "execution_count": 0,
      "outputs": []
    },
    {
      "cell_type": "code",
      "metadata": {
        "id": "6cillJi7Zg4d",
        "colab_type": "code",
        "outputId": "1322da4b-b299-4237-b8aa-a7c3a4d9b186",
        "colab": {
          "base_uri": "https://localhost:8080/",
          "height": 410
        }
      },
      "source": [
        "ngos = []\n",
        "for i in range(dfi.shape[0]):\n",
        "  temp = df[dfi[\"campaignid\"][i]==df[\"campaignid\"]][\"ngo\"]\n",
        "  ngos.append(temp.values[0])\n",
        "dfi[\"ngo\"] = ngos\n",
        "plt.hist(dfi[dfi[\"sazenId\"]==\"5c4eca02045bbda55590dd84\"][\"ngo\"].to_numpy().tolist())\n",
        "plt.xticks(rotation=60)"
      ],
      "execution_count": 0,
      "outputs": [
        {
          "output_type": "execute_result",
          "data": {
            "text/plain": [
              "([0, 1, 2, 3], <a list of 4 Text xticklabel objects>)"
            ]
          },
          "metadata": {
            "tags": []
          },
          "execution_count": 84
        },
        {
          "output_type": "display_data",
          "data": {
            "image/png": "[encoded data removed]",
            "text/plain": [
              "<Figure size 432x288 with 1 Axes>"
            ]
          },
          "metadata": {
            "tags": []
          }
        }
      ]
    },
    {
      "cell_type": "code",
      "metadata": {
        "id": "0jnCd4_OvAHT",
        "colab_type": "code",
        "outputId": "aa51e2e5-8381-4903-ba01-23a3a5728ec3",
        "colab": {
          "base_uri": "https://localhost:8080/",
          "height": 375
        }
      },
      "source": [
        "campaignTags = []\n",
        "for i in range(dfi.shape[0]):\n",
        "  temp = df[dfi[\"campaignid\"][i]==df[\"campaignid\"]][\"tags\"]\n",
        "  campaignTags.append(temp.values[0])\n",
        "dfi[\"tags\"] = campaignTags\n",
        "plt.hist(dfi[dfi[\"sazenId\"]==\"5c4eca02045bbda55590dd84\"][\"tags\"].to_numpy().tolist(),bins=[0. , 0.5, 1. , 1.5, 2. , 2.5])\n",
        "plt.xticks(np.arange(3)+0.25,rotation=60)"
      ],
      "execution_count": 0,
      "outputs": [
        {
          "output_type": "execute_result",
          "data": {
            "text/plain": [
              "([<matplotlib.axis.XTick at 0x7f662b1aaf60>,\n",
              "  <matplotlib.axis.XTick at 0x7f662b1aa898>,\n",
              "  <matplotlib.axis.XTick at 0x7f662b1aa5c0>],\n",
              " <a list of 3 Text xticklabel objects>)"
            ]
          },
          "metadata": {
            "tags": []
          },
          "execution_count": 85
        },
        {
          "output_type": "display_data",
          "data": {
            "image/png": "[encoded data removed]",
            "text/plain": [
              "<Figure size 432x288 with 1 Axes>"
            ]
          },
          "metadata": {
            "tags": []
          }
        }
      ]
    },
    {
      "cell_type": "code",
      "metadata": {
        "id": "PPvlQRBCegFj",
        "colab_type": "code",
        "outputId": "10b67799-73d1-4d6b-aed3-2401fe37ad65",
        "colab": {
          "base_uri": "https://localhost:8080/",
          "height": 447
        }
      },
      "source": [
        "campaignTypes = []\n",
        "for i in range(dfi.shape[0]):\n",
        "  temp = df[dfi[\"campaignid\"][i]==df[\"campaignid\"]][\"campaignType\"]\n",
        "  campaignTypes.append(temp.values[0])\n",
        "dfi[\"campaignType\"] = campaignTypes\n",
        "plt.hist(dfi[dfi[\"sazenId\"]==\"5c4eca02045bbda55590dd84\"][\"campaignType\"].to_numpy().tolist(),bins=[0. , 0.5, 1. , 1.5, 2. , 2.5, 3. , 3.5])\n",
        "plt.xticks(np.arange(4)+0.25,rotation=60)"
      ],
      "execution_count": 0,
      "outputs": [
        {
          "output_type": "execute_result",
          "data": {
            "text/plain": [
              "([<matplotlib.axis.XTick at 0x7f662b1b4278>,\n",
              "  <matplotlib.axis.XTick at 0x7f662e54a320>,\n",
              "  <matplotlib.axis.XTick at 0x7f662e0a2f60>,\n",
              "  <matplotlib.axis.XTick at 0x7f662e0e68d0>],\n",
              " <a list of 4 Text xticklabel objects>)"
            ]
          },
          "metadata": {
            "tags": []
          },
          "execution_count": 86
        },
        {
          "output_type": "display_data",
          "data": {
            "image/png": "[encoded data removed]",
            "text/plain": [
              "<Figure size 432x288 with 1 Axes>"
            ]
          },
          "metadata": {
            "tags": []
          }
        }
      ]
    },
    {
      "cell_type": "code",
      "metadata": {
        "id": "wMwyMTZfnxfa",
        "colab_type": "code",
        "outputId": "e2cbf429-4ad2-4199-c8cc-eaf1d316de2c",
        "colab": {
          "base_uri": "https://localhost:8080/",
          "height": 447
        }
      },
      "source": [
        "dfi[\"random\"] = dfi[\"random\"].astype(int)\n",
        "plt.hist(dfi[dfi[\"sazenId\"]==\"5c4eca02045bbda55590dd84\"][\"random\"].to_numpy().tolist(),bins=[0. , 0.5, 1. , 1.5, 2. , 2.5, 3. , 3.5, 4. , 4.5, 5.,5.5])\n",
        "plt.xticks(np.arange(6)+0.25,labels=[\"viewCampaign\",\"pay\",\"comment\",\"like\",\"share\",\"beVolunteer\"],rotation=60)\n",
        "#[\"viewCampaign\",\"pay\",\"comment\",\"like\",\"share\",\"beVolunteer\"],"
      ],
      "execution_count": 0,
      "outputs": [
        {
          "output_type": "execute_result",
          "data": {
            "text/plain": [
              "([<matplotlib.axis.XTick at 0x7f662e0e8a58>,\n",
              "  <matplotlib.axis.XTick at 0x7f662e0e84a8>,\n",
              "  <matplotlib.axis.XTick at 0x7f662e0e8358>,\n",
              "  <matplotlib.axis.XTick at 0x7f662b161cc0>,\n",
              "  <matplotlib.axis.XTick at 0x7f662b16a2e8>,\n",
              "  <matplotlib.axis.XTick at 0x7f662b16a2b0>],\n",
              " <a list of 6 Text xticklabel objects>)"
            ]
          },
          "metadata": {
            "tags": []
          },
          "execution_count": 87
        },
        {
          "output_type": "display_data",
          "data": {
            "image/png": "[encoded data removed]",
            "text/plain": [
              "<Figure size 432x288 with 1 Axes>"
            ]
          },
          "metadata": {
            "tags": []
          }
        }
      ]
    },
    {
      "cell_type": "code",
      "metadata": {
        "id": "Xbu0ufQ0Yz-6",
        "colab_type": "code",
        "outputId": "6093db11-ad71-487b-e812-89c3d6355988",
        "colab": {
          "base_uri": "https://localhost:8080/",
          "height": 54
        }
      },
      "source": [
        "from recombee_api_client.api_requests import  UserBasedRecommendation,ItemBasedRecommendation,RecommendItemsToUser\n",
        "recommended = client.send(RecommendItemsToUser('5c4eca02045bbda55590dd84', 5,))\n",
        "print(\"Recommended items: %s\" % recommended)"
      ],
      "execution_count": 0,
      "outputs": [
        {
          "output_type": "stream",
          "text": [
            "Recommended items: {'recommId': 'f8777331fb61eac4ad25daaef066a4aa', 'recomms': [{'id': '5d2854cdd66f137fe67ea4b4'}, {'id': '5d135adb9f3c071e9eb447d1'}, {'id': '5d3ec874123b3575b9c90395'}, {'id': '5ce235b612e2e80913a4aa80'}, {'id': '5cbd6053541fec184604611a'}]}\n"
          ],
          "name": "stdout"
        }
      ]
    },
    {
      "cell_type": "code",
      "metadata": {
        "id": "xfd0ptOZ_j-r",
        "colab_type": "code",
        "outputId": "cf7e49c2-f8a3-4e02-e5d2-490321618ba6",
        "colab": {
          "base_uri": "https://localhost:8080/",
          "height": 241
        }
      },
      "source": [
        "df[(df[\"campaignid\"]==\"5d2854cdd66f137fe67ea4b4\") | (df[\"campaignid\"]==\"5d135adb9f3c071e9eb447d1\") | (df[\"campaignid\"]==\"5d3ec874123b3575b9c90395\") | (df[\"campaignid\"]==\"5ce235b612e2e80913a4aa80\") | (df[\"campaignid\"]==\"5cbd6053541fec184604611a\")]"
      ],
      "execution_count": 0,
      "outputs": [
        {
          "output_type": "execute_result",
          "data": {
            "text/html": [
              "<div>\n",
              "<style scoped>\n",
              "    .dataframe tbody tr th:only-of-type {\n",
              "        vertical-align: middle;\n",
              "    }\n",
              "\n",
              "    .dataframe tbody tr th {\n",
              "        vertical-align: top;\n",
              "    }\n",
              "\n",
              "    .dataframe thead th {\n",
              "        text-align: right;\n",
              "    }\n",
              "</style>\n",
              "<table border=\"1\" class=\"dataframe\">\n",
              "  <thead>\n",
              "    <tr style=\"text-align: right;\">\n",
              "      <th></th>\n",
              "      <th>campaignid</th>\n",
              "      <th>city</th>\n",
              "      <th>state</th>\n",
              "      <th>country</th>\n",
              "      <th>tags</th>\n",
              "      <th>IsActive</th>\n",
              "      <th>ngo</th>\n",
              "      <th>campaignType</th>\n",
              "    </tr>\n",
              "  </thead>\n",
              "  <tbody>\n",
              "    <tr>\n",
              "      <th>36</th>\n",
              "      <td>5cbd6053541fec184604611a</td>\n",
              "      <td>Bengaluru</td>\n",
              "      <td>Karnataka</td>\n",
              "      <td>India</td>\n",
              "      <td>General</td>\n",
              "      <td>PUBLISHED</td>\n",
              "      <td>5ca04f806ad395ad77629a07</td>\n",
              "      <td>volunteerCampaign</td>\n",
              "    </tr>\n",
              "    <tr>\n",
              "      <th>47</th>\n",
              "      <td>5ce235b612e2e80913a4aa80</td>\n",
              "      <td>Bengaluru</td>\n",
              "      <td>Karnataka</td>\n",
              "      <td>India</td>\n",
              "      <td>General</td>\n",
              "      <td>PUBLISHED</td>\n",
              "      <td>5ca04f806ad395ad77629a07</td>\n",
              "      <td>volunteerCampaign</td>\n",
              "    </tr>\n",
              "    <tr>\n",
              "      <th>55</th>\n",
              "      <td>5d135adb9f3c071e9eb447d1</td>\n",
              "      <td>Bengaluru</td>\n",
              "      <td>Karnataka</td>\n",
              "      <td>India</td>\n",
              "      <td>Education</td>\n",
              "      <td>PUBLISHED</td>\n",
              "      <td>5ca04f806ad395ad77629a07</td>\n",
              "      <td>volunteerCampaign</td>\n",
              "    </tr>\n",
              "    <tr>\n",
              "      <th>72</th>\n",
              "      <td>5d2854cdd66f137fe67ea4b4</td>\n",
              "      <td>Navi Mumbai</td>\n",
              "      <td>Maharashtra</td>\n",
              "      <td>India</td>\n",
              "      <td>Health</td>\n",
              "      <td>PUBLISHED</td>\n",
              "      <td>5ca04f806ad395ad77629a07</td>\n",
              "      <td>volunteerCampaign</td>\n",
              "    </tr>\n",
              "    <tr>\n",
              "      <th>84</th>\n",
              "      <td>5d3ec874123b3575b9c90395</td>\n",
              "      <td>Bengaluru</td>\n",
              "      <td>Karnataka</td>\n",
              "      <td>India</td>\n",
              "      <td>General</td>\n",
              "      <td>PUBLISHED</td>\n",
              "      <td>5ca04f806ad395ad77629a07</td>\n",
              "      <td>membershipCampaign</td>\n",
              "    </tr>\n",
              "  </tbody>\n",
              "</table>\n",
              "</div>"
            ],
            "text/plain": [
              "                  campaignid  ...        campaignType\n",
              "36  5cbd6053541fec184604611a  ...   volunteerCampaign\n",
              "47  5ce235b612e2e80913a4aa80  ...   volunteerCampaign\n",
              "55  5d135adb9f3c071e9eb447d1  ...   volunteerCampaign\n",
              "72  5d2854cdd66f137fe67ea4b4  ...   volunteerCampaign\n",
              "84  5d3ec874123b3575b9c90395  ...  membershipCampaign\n",
              "\n",
              "[5 rows x 8 columns]"
            ]
          },
          "metadata": {
            "tags": []
          },
          "execution_count": 89
        }
      ]
    },
    {
      "cell_type": "code",
      "metadata": {
        "id": "am7epWVFKf1b",
        "colab_type": "code",
        "outputId": "995b4b53-04eb-433e-8ffd-78ac175188f6",
        "colab": {
          "base_uri": "https://localhost:8080/",
          "height": 224
        }
      },
      "source": [
        "df[(df[\"campaignid\"]==\"5d135adb9f3c071e9eb447d1\") | (df[\"campaignid\"]==\"5d3ec874123b3575b9c90395\") | (df[\"campaignid\"]==\"5ce235b612e2e80913a4aa80\") | (df[\"campaignid\"]==\"5cbd6053541fec184604611a\") | (df[\"campaignid\"]==\"5cfe2f41c3a29041e17ad00d\")]"
      ],
      "execution_count": 0,
      "outputs": [
        {
          "output_type": "execute_result",
          "data": {
            "text/html": [
              "<div>\n",
              "<style scoped>\n",
              "    .dataframe tbody tr th:only-of-type {\n",
              "        vertical-align: middle;\n",
              "    }\n",
              "\n",
              "    .dataframe tbody tr th {\n",
              "        vertical-align: top;\n",
              "    }\n",
              "\n",
              "    .dataframe thead th {\n",
              "        text-align: right;\n",
              "    }\n",
              "</style>\n",
              "<table border=\"1\" class=\"dataframe\">\n",
              "  <thead>\n",
              "    <tr style=\"text-align: right;\">\n",
              "      <th></th>\n",
              "      <th>campaignid</th>\n",
              "      <th>city</th>\n",
              "      <th>state</th>\n",
              "      <th>country</th>\n",
              "      <th>tags</th>\n",
              "      <th>IsActive</th>\n",
              "      <th>ngo</th>\n",
              "      <th>campaignType</th>\n",
              "    </tr>\n",
              "  </thead>\n",
              "  <tbody>\n",
              "    <tr>\n",
              "      <th>36</th>\n",
              "      <td>5cbd6053541fec184604611a</td>\n",
              "      <td>Bengaluru</td>\n",
              "      <td>Karnataka</td>\n",
              "      <td>India</td>\n",
              "      <td>General</td>\n",
              "      <td>PUBLISHED</td>\n",
              "      <td>5ca04f806ad395ad77629a07</td>\n",
              "      <td>volunteerCampaign</td>\n",
              "    </tr>\n",
              "    <tr>\n",
              "      <th>47</th>\n",
              "      <td>5ce235b612e2e80913a4aa80</td>\n",
              "      <td>Bengaluru</td>\n",
              "      <td>Karnataka</td>\n",
              "      <td>India</td>\n",
              "      <td>General</td>\n",
              "      <td>PUBLISHED</td>\n",
              "      <td>5ca04f806ad395ad77629a07</td>\n",
              "      <td>volunteerCampaign</td>\n",
              "    </tr>\n",
              "    <tr>\n",
              "      <th>49</th>\n",
              "      <td>5cfe2f41c3a29041e17ad00d</td>\n",
              "      <td>Bengaluru</td>\n",
              "      <td>Karnataka</td>\n",
              "      <td>India</td>\n",
              "      <td>General</td>\n",
              "      <td>PUBLISHED</td>\n",
              "      <td>5ca04f806ad395ad77629a07</td>\n",
              "      <td>volunteerCampaign</td>\n",
              "    </tr>\n",
              "    <tr>\n",
              "      <th>55</th>\n",
              "      <td>5d135adb9f3c071e9eb447d1</td>\n",
              "      <td>Bengaluru</td>\n",
              "      <td>Karnataka</td>\n",
              "      <td>India</td>\n",
              "      <td>Education</td>\n",
              "      <td>PUBLISHED</td>\n",
              "      <td>5ca04f806ad395ad77629a07</td>\n",
              "      <td>volunteerCampaign</td>\n",
              "    </tr>\n",
              "    <tr>\n",
              "      <th>84</th>\n",
              "      <td>5d3ec874123b3575b9c90395</td>\n",
              "      <td>Bengaluru</td>\n",
              "      <td>Karnataka</td>\n",
              "      <td>India</td>\n",
              "      <td>General</td>\n",
              "      <td>PUBLISHED</td>\n",
              "      <td>5ca04f806ad395ad77629a07</td>\n",
              "      <td>membershipCampaign</td>\n",
              "    </tr>\n",
              "  </tbody>\n",
              "</table>\n",
              "</div>"
            ],
            "text/plain": [
              "                  campaignid  ...        campaignType\n",
              "36  5cbd6053541fec184604611a  ...   volunteerCampaign\n",
              "47  5ce235b612e2e80913a4aa80  ...   volunteerCampaign\n",
              "49  5cfe2f41c3a29041e17ad00d  ...   volunteerCampaign\n",
              "55  5d135adb9f3c071e9eb447d1  ...   volunteerCampaign\n",
              "84  5d3ec874123b3575b9c90395  ...  membershipCampaign\n",
              "\n",
              "[5 rows x 8 columns]"
            ]
          },
          "metadata": {
            "tags": []
          },
          "execution_count": 43
        }
      ]
    },
    {
      "cell_type": "code",
      "metadata": {
        "id": "bIN8nzYH9h1P",
        "colab_type": "code",
        "outputId": "5a29dc34-2044-4bc4-a1ed-77b34d1e221e",
        "colab": {
          "base_uri": "https://localhost:8080/",
          "height": 54
        }
      },
      "source": [
        "from recombee_api_client.api_requests import  RecommendUsersToUser\n",
        "recommended = client.send(RecommendUsersToUser('5c4eca02045bbda55590dd84', 5,))\n",
        "print(\"Recommended items: %s\" % recommended)"
      ],
      "execution_count": 0,
      "outputs": [
        {
          "output_type": "stream",
          "text": [
            "Recommended items: {'recommId': '94dfeba1677fcae246057d39e1538039', 'recomms': [{'id': '5afaad90abacd6001b774ab5'}, {'id': '5c529aae917aac0011f3a1cf'}]}\n"
          ],
          "name": "stdout"
        }
      ]
    },
    {
      "cell_type": "code",
      "metadata": {
        "id": "BfxDkggj9z2x",
        "colab_type": "code",
        "outputId": "38bc8e3d-2c7b-46a2-d44d-e8c484c8f966",
        "colab": {
          "base_uri": "https://localhost:8080/",
          "height": 54
        }
      },
      "source": [
        "from recombee_api_client.api_requests import  RecommendUsersToItem\n",
        "recommended = client.send(RecommendUsersToItem('5d135adb9f3c071e9eb447d1', 5,))\n",
        "print(\"Recommended items: %s\" % recommended)"
      ],
      "execution_count": 0,
      "outputs": [
        {
          "output_type": "stream",
          "text": [
            "Recommended items: {'recommId': 'd69ea37b8035e7f0ba32d76afca5accf', 'recomms': [{'id': '5c4eca02045bbda55590dd84'}, {'id': '5afaad90abacd6001b774ab5'}]}\n"
          ],
          "name": "stdout"
        }
      ]
    },
    {
      "cell_type": "code",
      "metadata": {
        "id": "TCKdmyRK-A5x",
        "colab_type": "code",
        "outputId": "634e4d39-02c4-4363-f356-1e5eb40bc4da",
        "colab": {
          "base_uri": "https://localhost:8080/",
          "height": 54
        }
      },
      "source": [
        "from recombee_api_client.api_requests import  RecommendItemsToItem\n",
        "recommended = client.send(RecommendItemsToItem('5d135adb9f3c071e9eb447d1', '5c4eca02045bbda55590dd84',count=5,))\n",
        "print(\"Recommended items: %s\" % recommended)"
      ],
      "execution_count": 0,
      "outputs": [
        {
          "output_type": "stream",
          "text": [
            "Recommended items: {'recommId': '2b2dbb5b9e270b5ec8621d2543b52cb5', 'recomms': [{'id': '5d0881ee830acc143d7b1058'}, {'id': '5ca214dc25e6ad51d90896b3'}, {'id': '5ca05944585385cb612c1bb3'}, {'id': '5d2d9fe8d3758d11e63cf636'}, {'id': '5cfdebd081b899d31e62496c'}]}\n"
          ],
          "name": "stdout"
        }
      ]
    },
    {
      "cell_type": "code",
      "metadata": {
        "id": "7hcuaisRtXdv",
        "colab_type": "code",
        "outputId": "0706166e-719e-4046-fa44-eed2706ae871",
        "colab": {
          "base_uri": "https://localhost:8080/",
          "height": 354
        }
      },
      "source": [
        "plt.hist(dfi[dfi[\"sazenId\"]==\"5afaad90abacd6001b774ab5\"][\"city\"].to_numpy().tolist())\n",
        "plt.xticks([0.15,1.05,1.95,2.85])"
      ],
      "execution_count": 0,
      "outputs": [
        {
          "output_type": "execute_result",
          "data": {
            "text/plain": [
              "([<matplotlib.axis.XTick at 0x7fd5b6c73630>,\n",
              "  <matplotlib.axis.XTick at 0x7fd5b6c73160>,\n",
              "  <matplotlib.axis.XTick at 0x7fd5b6c73668>,\n",
              "  <matplotlib.axis.XTick at 0x7fd5b6c31b38>],\n",
              " <a list of 4 Text xticklabel objects>)"
            ]
          },
          "metadata": {
            "tags": []
          },
          "execution_count": 46
        },
        {
          "output_type": "display_data",
          "data": {
            "image/png": "[encoded data removed]",
            "text/plain": [
              "<Figure size 432x288 with 1 Axes>"
            ]
          },
          "metadata": {
            "tags": []
          }
        }
      ]
    },
    {
      "cell_type": "code",
      "metadata": {
        "id": "YRhUMVMt3l9H",
        "colab_type": "code",
        "outputId": "b46c7c45-48cd-448d-c2cd-b15e832658c0",
        "colab": {
          "base_uri": "https://localhost:8080/",
          "height": 320
        }
      },
      "source": [
        "plt.hist(dfi[dfi[\"sazenId\"]==\"5afaad90abacd6001b774ab5\"][\"ngo\"].to_numpy().tolist())\n",
        "plt.xticks([0.05,0.95])"
      ],
      "execution_count": 0,
      "outputs": [
        {
          "output_type": "execute_result",
          "data": {
            "text/plain": [
              "([<matplotlib.axis.XTick at 0x7fd5b6a765c0>,\n",
              "  <matplotlib.axis.XTick at 0x7fd5b6ae2fd0>],\n",
              " <a list of 2 Text xticklabel objects>)"
            ]
          },
          "metadata": {
            "tags": []
          },
          "execution_count": 51
        },
        {
          "output_type": "display_data",
          "data": {
            "image/png": "[encoded data removed]",
            "text/plain": [
              "<Figure size 432x288 with 1 Axes>"
            ]
          },
          "metadata": {
            "tags": []
          }
        }
      ]
    },
    {
      "cell_type": "code",
      "metadata": {
        "id": "uzfkNanS4yz4",
        "colab_type": "code",
        "outputId": "04039c85-8a8a-4927-bf4a-419050911b37",
        "colab": {
          "base_uri": "https://localhost:8080/",
          "height": 447
        }
      },
      "source": [
        "plt.hist(dfi[dfi[\"sazenId\"]==\"5afaad90abacd6001b774ab5\"][\"campaignType\"].to_numpy().tolist(),bins=[0. , 0.5, 1. , 1.5, 2. , 2.5, 3. , 3.5])\n",
        "plt.xticks(np.arange(4)+0.25,rotation=60)"
      ],
      "execution_count": 0,
      "outputs": [
        {
          "output_type": "execute_result",
          "data": {
            "text/plain": [
              "([<matplotlib.axis.XTick at 0x7fd5b6a53c88>,\n",
              "  <matplotlib.axis.XTick at 0x7fd5b6a535c0>,\n",
              "  <matplotlib.axis.XTick at 0x7fd5b6a532e8>,\n",
              "  <matplotlib.axis.XTick at 0x7fd5b69ff208>],\n",
              " <a list of 4 Text xticklabel objects>)"
            ]
          },
          "metadata": {
            "tags": []
          },
          "execution_count": 52
        },
        {
          "output_type": "display_data",
          "data": {
            "image/png": "[encoded data removed]",
            "text/plain": [
              "<Figure size 432x288 with 1 Axes>"
            ]
          },
          "metadata": {
            "tags": []
          }
        }
      ]
    },
    {
      "cell_type": "code",
      "metadata": {
        "id": "G2f1D9aA5Nhm",
        "colab_type": "code",
        "outputId": "022426ac-6172-4f93-b72b-f8152fbf95da",
        "colab": {
          "base_uri": "https://localhost:8080/",
          "height": 447
        }
      },
      "source": [
        "plt.hist(dfi[dfi[\"sazenId\"]==\"5afaad90abacd6001b774ab5\"][\"random\"].to_numpy().tolist(),bins=[0. , 0.5, 1. , 1.5, 2. , 2.5, 3. , 3.5, 4. , 4.5, 5.,5.5])\n",
        "plt.xticks(np.arange(6)+0.25,labels=[\"viewCampaign\",\"pay\",\"comment\",\"like\",\"share\",\"beVolunteer\"],rotation=60)"
      ],
      "execution_count": 0,
      "outputs": [
        {
          "output_type": "execute_result",
          "data": {
            "text/plain": [
              "([<matplotlib.axis.XTick at 0x7fd5b69b8a90>,\n",
              "  <matplotlib.axis.XTick at 0x7fd5b69b83c8>,\n",
              "  <matplotlib.axis.XTick at 0x7fd5b69b8278>,\n",
              "  <matplotlib.axis.XTick at 0x7fd5b69e8cf8>,\n",
              "  <matplotlib.axis.XTick at 0x7fd5b69f3320>,\n",
              "  <matplotlib.axis.XTick at 0x7fd5b69f37f0>],\n",
              " <a list of 6 Text xticklabel objects>)"
            ]
          },
          "metadata": {
            "tags": []
          },
          "execution_count": 53
        },
        {
          "output_type": "display_data",
          "data": {
            "image/png": "[encoded data removed]",
            "text/plain": [
              "<Figure size 432x288 with 1 Axes>"
            ]
          },
          "metadata": {
            "tags": []
          }
        }
      ]
    },
    {
      "cell_type": "code",
      "metadata": {
        "id": "nongvWN4tXQw",
        "colab_type": "code",
        "outputId": "a570ba88-c6be-450a-faa8-80eb50c45567",
        "colab": {
          "base_uri": "https://localhost:8080/",
          "height": 54
        }
      },
      "source": [
        "from recombee_api_client.api_requests import  UserBasedRecommendation,ItemBasedRecommendation,RecommendItemsToUser\n",
        "recommended = client.send(RecommendItemsToUser('5afaad90abacd6001b774ab5', 5,))\n",
        "print(\"Recommended items: %s\" % recommended)"
      ],
      "execution_count": 0,
      "outputs": [
        {
          "output_type": "stream",
          "text": [
            "Recommended items: {'recommId': '7ae8a7e0-bc59-4c84-8f58-2be2f3bbc525', 'recomms': [{'id': '5ca5c917762308767b8bcd3a'}, {'id': '5ca5ced4762308767b8bcd71'}, {'id': '5ca051a6c29d45477d90ca7e'}, {'id': '5ca6e12220b120a140e619ea'}, {'id': '5cc32109f3b060ce121bc09f'}]}\n"
          ],
          "name": "stdout"
        }
      ]
    },
    {
      "cell_type": "code",
      "metadata": {
        "id": "Jsk8lJIHaxPT",
        "colab_type": "code",
        "colab": {}
      },
      "source": [
        "#5c4eca02045bbda55590dd84 ==> user1(city=bengaluru) like 2 campaigns from  kevdia,gujrat,ngo-5ca05019c29d45477d90ca76 and 3 from  bengaluru,karnataka,ngo-5ca05019c29d45477d90ca76\n",
        "recommended = client.send(RecommendItemsToUser('5c4eca02045bbda55590dd84', 3))\n",
        "print(\"Recommended items: %s\" % recommended)\n",
        "#5ca5ce2f762308767b8bcd51  ==> Kevadia, gujrat,ngo-5ca05019c29d45477d90ca76 ,liked by user-2\n",
        "#5ca5c917762308767b8bcd3a  ==> Kevadia, gujrat,ngo-5ca05019c29d45477d90ca76 ,liked by user-2\n",
        "#5ca60afa48e2d4a60fe7076c  ==>  bengaluru,karnataka,ngo-5ca05019c29d45477d90ca76, not liked by anyone yet"
      ],
      "execution_count": 0,
      "outputs": []
    },
    {
      "cell_type": "code",
      "metadata": {
        "id": "jp47IJnhaO84",
        "colab_type": "code",
        "outputId": "2db25def-68a9-4fad-df52-66f15af2b69f",
        "colab": {
          "base_uri": "https://localhost:8080/",
          "height": 54
        }
      },
      "source": [
        "#filtering the output based on city like Bengaluru\n",
        "recommended = client.send(RecommendItemsToUser('5c4eca02045bbda55590dd84', 3,filter=\"'city'==\\\"Bengaluru\\\"\"))\n",
        "print(\"Recommended items: %s\" % recommended)\n",
        "#5ca60afa48e2d4a60fe7076c  ==> bengaluru,karnataka,ngo-5ca05019c29d45477d90ca76, not liked by anyone yet\n",
        "#5ca6e12220b120a140e619ea  ==> bengaluru,karnataka,ngo-5ca05019c29d45477d90ca76, not liked by anyone yet\n",
        "#5cb094916274475fdd8899af  ==> bengaluru,karnataka,ngo-5ca05019c29d45477d90ca76, not liked by anyone yet"
      ],
      "execution_count": 0,
      "outputs": [
        {
          "output_type": "stream",
          "text": [
            "Recommended items: {'recommId': '146738bc7b86a9f02b6b62dd452a094e', 'recomms': [{'id': '5ca60afa48e2d4a60fe7076c'}, {'id': '5ca6e12220b120a140e619ea'}, {'id': '5cb094916274475fdd8899af'}]}\n"
          ],
          "name": "stdout"
        }
      ]
    },
    {
      "cell_type": "code",
      "metadata": {
        "id": "eE17Nd4kfgQ0",
        "colab_type": "code",
        "outputId": "c20ab156-2408-4d50-8e56-d500a2bd517f",
        "colab": {
          "base_uri": "https://localhost:8080/",
          "height": 34
        }
      },
      "source": [
        "# client.send(\n",
        "#     Batch(\n",
        "#         [\n",
        "#             DeleteDetailView(\"5c4eca02045bbda55590dd84\", \"5ca5cf33762308767b8bcd8c\"),\n",
        "#             DeleteDetailView(\"5c4eca02045bbda55590dd84\", \"5ca5ced4762308767b8bcd71\")\n",
        "#         ]\n",
        "#     )\n",
        "# )"
      ],
      "execution_count": 0,
      "outputs": [
        {
          "output_type": "execute_result",
          "data": {
            "text/plain": [
              "[{'code': 200, 'json': 'ok'}]"
            ]
          },
          "metadata": {
            "tags": []
          },
          "execution_count": 51
        }
      ]
    },
    {
      "cell_type": "code",
      "metadata": {
        "id": "QDDnatwDgwLQ",
        "colab_type": "code",
        "outputId": "281fddcb-ba9b-4a6f-f80e-ff6358b96b56",
        "colab": {
          "base_uri": "https://localhost:8080/",
          "height": 54
        }
      },
      "source": [
        "#5c4eca02045bbda55590dd84 ==> user1(city=bengaluru) 3 from  bengaluru,karnataka,ngo-5ca05019c29d45477d90ca76\n",
        "recommended = client.send(RecommendItemsToUser('5c4eca02045bbda55590dd84', 3))\n",
        "print(\"Recommended items: %s\" % recommended)\n",
        "#5ca60afa48e2d4a60fe7076c  ==> bengaluru,karnataka,ngo-5ca05019c29d45477d90ca76, not liked by anyone yet\n",
        "#5ca6e12220b120a140e619ea  ==> bengaluru,karnataka,ngo-5ca05019c29d45477d90ca76, not liked by anyone yet\n",
        "#5cb094916274475fdd8899af  ==> bengaluru,karnataka,ngo-5ca05019c29d45477d90ca76, not liked by anyone yet"
      ],
      "execution_count": 0,
      "outputs": [
        {
          "output_type": "stream",
          "text": [
            "Recommended items: {'recommId': '7508f81b51e3a681261cf692efe57e35', 'recomms': [{'id': '5ca60afa48e2d4a60fe7076c'}, {'id': '5ca6e12220b120a140e619ea'}, {'id': '5cb094916274475fdd8899af'}]}\n"
          ],
          "name": "stdout"
        }
      ]
    },
    {
      "cell_type": "code",
      "metadata": {
        "id": "tl1U_VC1j9P5",
        "colab_type": "code",
        "outputId": "ebd17683-0398-4b35-9531-48117d4e7354",
        "colab": {
          "base_uri": "https://localhost:8080/",
          "height": 54
        }
      },
      "source": [
        "#5c4eca02045bbda55590dd84 ==> user1(city=kevadia) like 3 from  bengaluru,karnataka,ngo-5ca05019c29d45477d90ca76\n",
        "recommended = client.send(RecommendItemsToUser('5c4eca02045bbda55590dd84', 3))\n",
        "print(\"Recommended items: %s\" % recommended)\n",
        "#5ca60afa48e2d4a60fe7076c  ==> bengaluru,karnataka,ngo-5ca05019c29d45477d90ca76, not liked by anyone yet\n",
        "#5ca6e12220b120a140e619ea  ==> bengaluru,karnataka,ngo-5ca05019c29d45477d90ca76, not liked by anyone yet\n",
        "#5cb094916274475fdd8899af  ==> bengaluru,karnataka,ngo-5ca05019c29d45477d90ca76, not liked by anyone yet"
      ],
      "execution_count": 0,
      "outputs": [
        {
          "output_type": "stream",
          "text": [
            "Recommended items: {'recommId': '4ed7a63ec0211a5098120bef8a68fe8e', 'recomms': [{'id': '5ca60afa48e2d4a60fe7076c'}, {'id': '5ca6e12220b120a140e619ea'}, {'id': '5cb094916274475fdd8899af'}]}\n"
          ],
          "name": "stdout"
        }
      ]
    },
    {
      "cell_type": "code",
      "metadata": {
        "id": "2b3Z_wk6EMhp",
        "colab_type": "code",
        "outputId": "ae501d68-7125-42b6-a0c8-16394305ed8c",
        "colab": {
          "base_uri": "https://localhost:8080/",
          "height": 54
        }
      },
      "source": [
        "from recombee_api_client.api_requests import  UserBasedRecommendation,ItemBasedRecommendation,RecommendItemsToUser\n",
        "\n",
        "# Get recommendations for user 'user-2'\n",
        "#5c529aae917aac0011f3a1cf ==> user2 (city=kevadia) like 2 campaigns from  kevdia,gujrat,ngo-5ca05019c29d45477d90ca76\n",
        "recommended = client.send(RecommendItemsToUser('5c529aae917aac0011f3a1cf', 3,))\n",
        "print(\"Recommended items: %s\" % recommended)"
      ],
      "execution_count": 0,
      "outputs": [
        {
          "output_type": "stream",
          "text": [
            "Recommended items: {'recommId': 'dffedcad85c8a4e8102307db7b90ede5', 'recomms': [{'id': '5cb454ebbdfb7e70901607d5'}, {'id': '5cb4553bbdfb7e70901607e7'}, {'id': '5ca5c917762308767b8bcd3a'}]}\n"
          ],
          "name": "stdout"
        }
      ]
    },
    {
      "cell_type": "code",
      "metadata": {
        "id": "T3kBe4MEiarp",
        "colab_type": "code",
        "colab": {}
      },
      "source": [
        "from recombee_api_client.api_requests.recommend_items_to_user import RecommendItemsToUser\n",
        "from recombee_api_client.api_requests.recommend_users_to_user import RecommendUsersToUser\n",
        "from recombee_api_client.api_requests.recommend_items_to_item import RecommendItemsToItem\n",
        "from recombee_api_client.api_requests.recommend_users_to_item import RecommendUsersToItem\n",
        "#from recombee_api_client.api_requests.user_based_recommendation import UserBasedRecommendation\n",
        "#from recombee_api_client.api_requests.item_based_recommendation import ItemBasedRecommendation\n",
        "\n",
        "# from recombee_api_client.api_requests import  UserBasedRecommendation,ItemBasedRecommendation,RecommendItemsToUser\n",
        "\n",
        "# # Get recommendations for user 'user-1'\n",
        "# #5c529aae917aac0011f3a1cf ==> user2 like kevdia,gujrat,ngo-5ca05019c29d45477d90ca76\n",
        "# recommended = client.send(RecommendItemsToUser('5c529aae917aac0011f3a1cf', 3))\n",
        "# print(\"Recommended items: %s\" % recommended)\n",
        "# #5ca5c917762308767b8bcd3a =>  Kevadia, gujrat,ngo-5ca05019c29d45477d90ca76 liked by user1\n",
        "# #5ca5cf33762308767b8bcd8c =>  Kevadia, gujrat,ngo-5ca05019c29d45477d90ca76 not liked by anyone yet\n",
        "# #5ca5ced4762308767b8bcd71 =>  Kevadia, gujrat,ngo-5ca05019c29d45477d90ca76 not liked by anyone yet"
      ],
      "execution_count": 0,
      "outputs": []
    },
    {
      "cell_type": "code",
      "metadata": {
        "id": "G2koy3xBph7a",
        "colab_type": "code",
        "colab": {}
      },
      "source": [
        "RecommendUsersToItem?"
      ],
      "execution_count": 0,
      "outputs": []
    },
    {
      "cell_type": "code",
      "metadata": {
        "id": "ydT5tnXVKW-A",
        "colab_type": "code",
        "outputId": "a4e7ae8a-ff5d-4287-d151-527d19f6f121",
        "colab": {
          "base_uri": "https://localhost:8080/",
          "height": 54
        }
      },
      "source": [
        "#5c4eca02045bbda55590dd84  ==> user1 like 5 campaign from ngo-5ca05019c29d45477d90ca76 and of kevadia,Bengaluru,hyderabad\n",
        "recommended = client.send(RecommendItemsToUser('5c4eca02045bbda55590dd84', 3))\n",
        "print(\"Recommended items: %s\" % recommended)\n",
        "#5ca5ce2f762308767b8bcd51  =>  Kevadia, gujrat,ngo-5ca05019c29d45477d90ca76 not liked by anyone yet\n",
        "#5ca5cf33762308767b8bcd8c  =>  Kevadia, gujrat,ngo-5ca05019c29d45477d90ca76 not liked by anyone yet\n",
        "#5ca5ced4762308767b8bcd71  =>  Kevadia, gujrat,ngo-5ca05019c29d45477d90ca76 not liked by anyone yet"
      ],
      "execution_count": 0,
      "outputs": [
        {
          "output_type": "stream",
          "text": [
            "Recommended items: {'recommId': 'f49a5afd4906c98b8218c1de0db75478', 'recomms': [{'id': '5ca5ce2f762308767b8bcd51'}, {'id': '5ca5cf33762308767b8bcd8c'}, {'id': '5ca5ced4762308767b8bcd71'}]}\n"
          ],
          "name": "stdout"
        }
      ]
    },
    {
      "cell_type": "code",
      "metadata": {
        "id": "wcLyK96_3o-N",
        "colab_type": "code",
        "outputId": "0f8a5f3e-ca68-448f-9d1d-b06ce8834beb",
        "colab": {
          "base_uri": "https://localhost:8080/",
          "height": 54
        }
      },
      "source": [
        "# Get 3 recommendations for \"5c529aae917aac0011f3a1cf\" user-2, who is currently viewing \"5ca0a7530aaf3f61807e1062\" ==> bengaluru, from ngo-5ca05019c29d45477d90ca76\n",
        "\n",
        "#RecommendItemsToItem(item,user,count)\n",
        "\n",
        "recommended = client.send(RecommendItemsToItem(\"5ca0a7530aaf3f61807e1062\",\"5c529aae917aac0011f3a1cf\", 3))\n",
        "print(\"Recommended items: %s\" % recommended)\n",
        "#5ca051a6c29d45477d90ca7e  => bengaluru,Karnataka,ngo-5ca05019c29d45477d90ca76 liked by user-1\n",
        "#5ca094a6c29d45477d90cb09  => bengaluru,Karnataka,ngo-5ca05019c29d45477d90ca76 liked by user-1\n",
        "#5ca60afa48e2d4a60fe7076c  => bengaluru,Karnataka,ngo-5ca05019c29d45477d90ca76 not liked by anyone yet"
      ],
      "execution_count": 0,
      "outputs": [
        {
          "output_type": "stream",
          "text": [
            "Recommended items: {'recommId': '8c38116de295403e4da3b93861be6802', 'recomms': [{'id': '5ca051a6c29d45477d90ca7e'}, {'id': '5ca094a6c29d45477d90cb09'}, {'id': '5ca60afa48e2d4a60fe7076c'}]}\n"
          ],
          "name": "stdout"
        }
      ]
    },
    {
      "cell_type": "code",
      "metadata": {
        "id": "IlYh6zHYdwZd",
        "colab_type": "code",
        "outputId": "19ba3684-d9bb-43a1-8af2-7b370e22f392",
        "colab": {
          "base_uri": "https://localhost:8080/",
          "height": 54
        }
      },
      "source": [
        "#Show history of last transaction\n",
        "recommended = client.send(RecommendItemsToUser('5c4eca02045bbda55590dd84', 5,logic=\"ecommerce:homepage\"))\n",
        "print(\"Recommended items: %s\" % recommended)"
      ],
      "execution_count": 0,
      "outputs": [
        {
          "output_type": "stream",
          "text": [
            "Recommended items: {'recommId': 'fdd59ea5e56e3cdbe14db6bb5ee94da0', 'recomms': [{'id': '5ca5c917762308767b8bcd3a'}, {'id': '5ca0a7530aaf3f61807e1062'}, {'id': '5ca094a6c29d45477d90cb09'}, {'id': '5cb454ebbdfb7e70901607d5'}, {'id': '5ca051a6c29d45477d90ca7e'}]}\n"
          ],
          "name": "stdout"
        }
      ]
    },
    {
      "cell_type": "code",
      "metadata": {
        "id": "6eRx5xNdsxm1",
        "colab_type": "code",
        "outputId": "21a3cf22-dadb-4a03-b2c6-8ee5d4e3d79c",
        "colab": {
          "base_uri": "https://localhost:8080/",
          "height": 54
        }
      },
      "source": [
        "#Show history of last transaction\n",
        "recommended = client.send(RecommendItemsToUser('5c529aae917aac0011f3a1cf', 5,logic=\"ecommerce:cross-sell\"))\n",
        "print(\"Recommended items: %s\" % recommended)"
      ],
      "execution_count": 0,
      "outputs": [
        {
          "output_type": "stream",
          "text": [
            "Recommended items: {'recommId': 'de1161c26745af54508338e0e42f34b3', 'recomms': [{'id': '5ca0a7530aaf3f61807e1062'}, {'id': '5cc321eff3b060ce121bc0bd'}, {'id': '5d00f16ff6a60c0014c6e1eb'}, {'id': '5d4805cbf4c53e2d486cd8d2'}, {'id': '5cbd60dc541fec184604613d'}]}\n"
          ],
          "name": "stdout"
        }
      ]
    },
    {
      "cell_type": "code",
      "metadata": {
        "id": "voTbWiQX_V9U",
        "colab_type": "code",
        "colab": {}
      },
      "source": [
        ""
      ],
      "execution_count": 0,
      "outputs": []
    },
    {
      "cell_type": "code",
      "metadata": {
        "id": "RPD-YANt-zId",
        "colab_type": "code",
        "colab": {}
      },
      "source": [
        "client.send(AddUserProperty(\"age\", type))\n",
        "client.send(AddUserProperty(\"gender\", type))\n",
        "client.send(AddUserProperty(\"location\", type))\n",
        "client.send(AddUserProperty(\"income\", type))\n",
        "client.send(AddUserProperty(\"education\", type))"
      ],
      "execution_count": 0,
      "outputs": []
    }
  ]
}